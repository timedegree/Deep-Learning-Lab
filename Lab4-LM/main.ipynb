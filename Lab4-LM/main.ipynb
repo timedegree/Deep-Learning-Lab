{
 "cells": [
  {
   "cell_type": "code",
   "execution_count": null,
   "metadata": {},
   "outputs": [],
   "source": [
    "import numpy as np\n",
    "import matplotlib.pyplot as plt\n",
    "from sklearn import datasets"
   ]
  },
  {
   "cell_type": "code",
   "execution_count": null,
   "metadata": {},
   "outputs": [],
   "source": [
    "# Binary Classification (Breast Cancer)\n",
    "breast_cancer = datasets.load_breast_cancer()\n",
    "\n",
    "breast_cancer_features_raw = breast_cancer.data\n",
    "breast_cancer_labels_raw = breast_cancer.target\n",
    "\n",
    "# Multi-class Classification (Iris)\n",
    "iris = datasets.load_iris()\n",
    "\n",
    "iris_features_raw = iris.data\n",
    "iris_labels_raw = iris.target"
   ]
  },
  {
   "cell_type": "code",
   "execution_count": null,
   "metadata": {},
   "outputs": [],
   "source": [
    "def breast_cancer_shuffle():\n",
    "    breast_cancer = np.hstack((breast_cancer_features_raw, breast_cancer_labels_raw.reshape(-1, 1)))\n",
    "    np.random.shuffle(breast_cancer)\n",
    "\n",
    "    breast_cancer_features = breast_cancer[:, :-1]\n",
    "    breast_cancer_labels = breast_cancer[:, -1].astype(int)\n",
    "\n",
    "    #print(breast_cancer_features.shape)\n",
    "    #print(breast_cancer_labels.shape)\n",
    "    #print(breast_cancer.shape)\n",
    "\n",
    "    return (breast_cancer_features, breast_cancer_labels)\n",
    "\n",
    "def iris_shuffle():\n",
    "    iris = np.hstack((iris_features_raw, iris_labels_raw.reshape(-1, 1)))\n",
    "    np.random.shuffle(iris)\n",
    "\n",
    "    iris_features = iris[:, :-1]\n",
    "    iris_labels = iris[:, -1].astype(int)\n",
    "\n",
    "    #print(iris_features.shape)\n",
    "    #print(iris_labels.shape)\n",
    "    #print(iris.shape)\n",
    "\n",
    "    return (iris_features, iris_labels)\n",
    "    "
   ]
  },
  {
   "cell_type": "code",
   "execution_count": null,
   "metadata": {},
   "outputs": [],
   "source": [
    "# Logistic Regression Function Defination (Binary Classification)\n",
    "\n",
    "def sigmoid(x, w):\n",
    "    return 1 / (1 + np.exp(-np.dot(x, w)))\n",
    "\n",
    "def predict(x, w):\n",
    "    return 1 if sigmoid(x, w) > 0.5 else 0\n",
    "\n",
    "def logisitc_train():\n",
    "    features, labels = breast_cancer_shuffle()\n",
    "\n",
    "    w = np.random.rand(features.shape[1]+1)\n",
    "    X = np.hstack((np.ones((features.shape[0], 1)), features))[:284]\n",
    "    Y = labels.copy()[:284]\n",
    "\n",
    "    test_X = np.hstack((np.ones((features.shape[0], 1)), features))[284:]\n",
    "    test_Y = labels.copy()[284:]\n",
    "\n",
    "    learning_rate = 0.0001\n",
    "    iter_times = 200000\n",
    "\n",
    "    for epoch in range(iter_times):\n",
    "        grad = - (Y - sigmoid(X,w)).dot(X) / Y.shape[0]\n",
    "        w = w - learning_rate * grad\n",
    "\n",
    "    acc = np.mean([predict(test_X[i], w) == test_Y[i] for i in range(test_Y.shape[0])])\n",
    "    print(\"accuracy: \", acc)\n",
    "\n",
    "    return acc"
   ]
  },
  {
   "cell_type": "code",
   "execution_count": null,
   "metadata": {},
   "outputs": [],
   "source": [
    "# Logistic Regression Test\n",
    "\n",
    "print(\"Total accuracy: \", np.mean([logisitc_train() for _ in range(10)]))"
   ]
  },
  {
   "cell_type": "code",
   "execution_count": null,
   "metadata": {},
   "outputs": [],
   "source": [
    "# Softmax Regression Function Defination (Multi-class Classification)\n",
    "def softmax(x, w):\n",
    "    return np.exp(x.dot(w)) / np.exp(x.dot(w)).dot(np.ones((3, 1)))\n",
    "\n",
    "def predict(x, w):\n",
    "    return np.argmax(x.dot(w))\n",
    "\n",
    "def softmax_train():\n",
    "    features, labels = iris_shuffle()\n",
    "\n",
    "    w = np.random.rand(features.shape[1]+1, 3)\n",
    "    X = np.hstack((np.ones((features.shape[0], 1)), features))[:100]\n",
    "    Y = labels.copy()[:100]\n",
    "\n",
    "    test_X = np.hstack((np.ones((features.shape[0], 1)), features))[100:]\n",
    "    test_Y = labels.copy()[100:]\n",
    "\n",
    "    one_hot_Y = np.zeros((Y.shape[0], 3))\n",
    "    for i in range(Y.shape[0]):\n",
    "        one_hot_Y[i, Y[i]] = 1\n",
    "\n",
    "    learning_rate = 0.0001\n",
    "    iter_times = 200000\n",
    "\n",
    "    for epoch in range(iter_times):\n",
    "        grad = X.T.dot(softmax(X, w) - one_hot_Y) / Y.shape[0]\n",
    "        w -= learning_rate * grad\n",
    "\n",
    "    acc = np.mean([predict(test_X[i], w) == test_Y[i] for i in range(test_Y.shape[0])])\n",
    "    print(\"accuracy: \", acc)\n",
    "\n",
    "    return acc\n"
   ]
  },
  {
   "cell_type": "code",
   "execution_count": null,
   "metadata": {},
   "outputs": [],
   "source": [
    "#  Softmax Regression Test (Multi-class Classification)\n",
    "\n",
    "print(\"Total accuracy: \", np.mean([softmax_train() for _ in range(10)]))"
   ]
  },
  {
   "cell_type": "code",
   "execution_count": null,
   "metadata": {},
   "outputs": [],
   "source": [
    "# Perceptron Function Defination (Binary Classification)\n",
    "\n",
    "def predict(x, w):\n",
    "    return 1 if np.dot(x, w) > 0 else -1\n",
    "\n",
    "def perceptron_train():\n",
    "    features, labels = breast_cancer_shuffle()\n",
    "\n",
    "    w = np.random.rand(features.shape[1]+1)\n",
    "    X = np.hstack((np.ones((features.shape[0], 1)), features))[:284]\n",
    "    Y = labels.copy()[:284]\n",
    "\n",
    "    test_X = np.hstack((np.ones((features.shape[0], 1)), features))[284:]\n",
    "    test_Y = labels.copy()[284:]\n",
    "\n",
    "    Y[Y == 0] = -1\n",
    "    test_Y[test_Y == 0] = -1\n",
    "\n",
    "    learning_rate = 0.005\n",
    "    iter_times = 2000000\n",
    "\n",
    "    t = 0\n",
    "    while t < iter_times:\n",
    "        for i in range(Y.shape[0]):\n",
    "            w = w if  Y[i]*np.dot(X[i], w) > 0 else w + learning_rate * Y[i] * X[i]\n",
    "            t += 1\n",
    "\n",
    "    acc = np.mean([predict(test_X[i], w) == test_Y[i] for i in range(test_Y.shape[0])])\n",
    "    print(\"accuracy: \", acc)\n",
    "\n",
    "    return acc"
   ]
  },
  {
   "cell_type": "code",
   "execution_count": null,
   "metadata": {},
   "outputs": [],
   "source": [
    "# Perceptron Test (Binary Classification)\n",
    "\n",
    "print(\"Total accuracy: \", np.mean([perceptron_train() for _ in range(10)]))"
   ]
  }
 ],
 "metadata": {
  "kernelspec": {
   "display_name": "Python 3",
   "language": "python",
   "name": "python3"
  },
  "language_info": {
   "codemirror_mode": {
    "name": "ipython",
    "version": 3
   },
   "file_extension": ".py",
   "mimetype": "text/x-python",
   "name": "python",
   "nbconvert_exporter": "python",
   "pygments_lexer": "ipython3",
   "version": "3.9.6"
  }
 },
 "nbformat": 4,
 "nbformat_minor": 2
}
