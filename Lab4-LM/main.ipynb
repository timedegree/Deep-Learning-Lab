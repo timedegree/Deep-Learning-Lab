{
 "cells": [
  {
   "cell_type": "code",
   "execution_count": null,
   "metadata": {},
   "outputs": [],
   "source": [
    "import numpy as np\n",
    "import matplotlib.pyplot as plt\n",
    "from sklearn import datasets"
   ]
  },
  {
   "cell_type": "code",
   "execution_count": null,
   "metadata": {},
   "outputs": [],
   "source": [
    "# Binary Classification (Breast Cancer)\n",
    "breast_cancer = datasets.load_breast_cancer()\n",
    "\n",
    "breast_cancer_features = breast_cancer.data\n",
    "breast_cancer_labels = breast_cancer.target\n",
    "\n",
    "print(breast_cancer_features.shape)\n",
    "print(breast_cancer_labels.shape)\n",
    "\n",
    "# Multi-class Classification (Iris)\n",
    "iris = datasets.load_iris()\n",
    "\n",
    "iris_features = iris.data\n",
    "iris_labels = iris.target\n",
    "\n",
    "print(iris_features.shape)\n",
    "print(iris_labels.shape)"
   ]
  },
  {
   "cell_type": "code",
   "execution_count": null,
   "metadata": {},
   "outputs": [],
   "source": [
    "# Logistic Regression (Binary Classification)\n",
    "\n",
    "w = np.random.rand(breast_cancer_features.shape[1]+1)\n",
    "X = np.hstack((np.ones((breast_cancer_features.shape[0], 1)), breast_cancer_features))\n",
    "Y = breast_cancer_labels.copy()\n",
    "\n",
    "learning_rate = 0.0001\n",
    "epoch_times = 200000\n",
    "\n",
    "def sigmoid(x, w):\n",
    "    return 1 / (1 + np.exp(-np.dot(x, w)))\n",
    "\n",
    "def predict(x, w):\n",
    "    return 1 if sigmoid(x, w) > 0.5 else 0\n",
    "\n",
    "for epoch in range(epoch_times):\n",
    "    grad = - (Y - sigmoid(X,w)).dot(X) / Y.shape[0]\n",
    "    w = w - learning_rate * grad\n",
    "\n",
    "print(\"accuracy: \", np.mean([predict(X[i], w) == Y[i] for i in range(Y.shape[0])]))"
   ]
  },
  {
   "cell_type": "code",
   "execution_count": null,
   "metadata": {},
   "outputs": [],
   "source": [
    "# Softmax Regression (Multi-class Classification)\n",
    "\n",
    "w = np.random.rand(X.shape[1], 3)\n",
    "X = np.hstack((np.ones((iris_features.shape[0], 1)), iris_features))\n",
    "Y = iris_labels.copy()\n",
    "\n",
    "one_hot_Y = np.zeros((Y.shape[0], 3))\n",
    "for i in range(Y.shape[0]):\n",
    "    one_hot_Y[i, Y[i]] = 1\n",
    "\n",
    "learning_rate = 0.0001\n",
    "epoch_times = 200000\n",
    "\n",
    "def softmax(x, w):\n",
    "    return np.exp(X.dot(w)) / np.exp(X.dot(w)).dot(np.ones((3, 1)))\n",
    "\n",
    "def predict(x, w):\n",
    "    return np.argmax(x.dot(w))\n",
    "\n",
    "for epoch in range(epoch_times):\n",
    "    grad = X.T.dot(softmax(X, w) - one_hot_Y) / Y.shape[0]\n",
    "    w -= learning_rate * grad\n",
    "\n",
    "print(\"accuracy:\", np.mean([predict(X[i], w) == Y[i] for i in range(Y.shape[0])]))\n"
   ]
  },
  {
   "cell_type": "code",
   "execution_count": null,
   "metadata": {},
   "outputs": [],
   "source": [
    "# Perceptron (Binary Classification)\n",
    "\n",
    "w = np.random.rand(breast_cancer_features.shape[1]+1)\n",
    "X = np.hstack((np.ones((breast_cancer_features.shape[0], 1)), breast_cancer_features))\n",
    "Y = breast_cancer_labels.copy()\n",
    "\n",
    "Y[Y == 0] = -1\n",
    "\n",
    "learning_rate = 0.001\n",
    "epoch_times = 200000\n",
    "\n",
    "def predict(x, w):\n",
    "    return 1 if np.dot(x, w) > 0 else -1\n",
    "\n",
    "t = 0\n",
    "while t < epoch_times:\n",
    "    for i in range(Y.shape[0]):\n",
    "        w = w if  Y[i]*np.dot(X[i], w) > 0 else w + learning_rate * Y[i] * X[i]\n",
    "        t += 1\n",
    "\n",
    "print(\"accuracy: \", np.mean([predict(X[i], w) == Y[i] for i in range(Y.shape[0])]))"
   ]
  }
 ],
 "metadata": {
  "kernelspec": {
   "display_name": "Python 3",
   "language": "python",
   "name": "python3"
  },
  "language_info": {
   "codemirror_mode": {
    "name": "ipython",
    "version": 3
   },
   "file_extension": ".py",
   "mimetype": "text/x-python",
   "name": "python",
   "nbconvert_exporter": "python",
   "pygments_lexer": "ipython3",
   "version": "3.9.6"
  }
 },
 "nbformat": 4,
 "nbformat_minor": 2
}
