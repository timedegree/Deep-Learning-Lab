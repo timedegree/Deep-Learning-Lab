{
 "cells": [
  {
   "cell_type": "code",
   "execution_count": null,
   "metadata": {},
   "outputs": [],
   "source": [
    "import numpy as np\n",
    "import matplotlib.pyplot as plt\n",
    "from matplotlib.animation import FuncAnimation"
   ]
  },
  {
   "cell_type": "code",
   "execution_count": null,
   "metadata": {},
   "outputs": [],
   "source": [
    "def f(w):\n",
    "    return w**2"
   ]
  },
  {
   "cell_type": "code",
   "execution_count": null,
   "metadata": {},
   "outputs": [],
   "source": [
    "w = 1\n",
    "learning_rate = 0.4\n",
    "\n",
    "w_list = []\n",
    "w_list.append(w)\n",
    "\n",
    "while learning_rate * 2 * w > 1e-6:\n",
    "    w = w - learning_rate * 2 * w\n",
    "    w_list.append(w)"
   ]
  },
  {
   "cell_type": "code",
   "execution_count": null,
   "metadata": {},
   "outputs": [],
   "source": [
    "x = np.linspace(-1.5, 1.5, 100)\n",
    "y = f(x)\n",
    "\n",
    "plt.plot(x, y, color='black')\n",
    "plt.plot(w_list, f(np.array(w_list)),'bo-')\n",
    "plt.plot(w_list[-1], f(w_list[-1]), 'ro')\n",
    "plt.show()"
   ]
  },
  {
   "cell_type": "code",
   "execution_count": null,
   "metadata": {},
   "outputs": [],
   "source": [
    "def f(w):\n",
    "    return w[0]**2 + w[1]**2"
   ]
  },
  {
   "cell_type": "code",
   "execution_count": null,
   "metadata": {},
   "outputs": [],
   "source": [
    "w = np.array([1, 3])\n",
    "learning_rate = 0.1\n",
    "\n",
    "w_list = []\n",
    "w_list.append(w)\n",
    "\n",
    "while learning_rate * 2 * w[0] + learning_rate * 2 * w[1] > 1e-6:\n",
    "    w = w - learning_rate * 2 * w\n",
    "    w_list.append(w)"
   ]
  },
  {
   "cell_type": "code",
   "execution_count": null,
   "metadata": {},
   "outputs": [],
   "source": [
    "X = np.linspace(-3, 3, 100)\n",
    "Y = np.linspace(-3, 3, 100)\n",
    "X, Y = np.meshgrid(X, Y)\n",
    "Z = f([X, Y])\n",
    "\n",
    "fig = plt.figure(figsize=(10, 8))\n",
    "ax = fig.add_subplot(111, projection='3d')\n",
    "\n",
    "def plot(ax):\n",
    "    ax.plot_surface(X, Y, Z, cmap=plt.cm.coolwarm, alpha=0.7)\n",
    "    ax.plot([w[0] for w in w_list], [w[1] for w in w_list], [f(w) for w in w_list], 'bo-')\n",
    "    ax.plot(w_list[-1][0], w_list[-1][1], f(w_list[-1]), 'ro')\n",
    "\n",
    "plot(ax)\n",
    "\n",
    "def update(frame):\n",
    "    ax.clear()\n",
    "\n",
    "    plot(ax)\n",
    "    ax.view_init(elev=15, azim=150-frame*2)\n",
    "\n",
    "    return ax\n",
    "\n",
    "ani = FuncAnimation(\n",
    "    fig, \n",
    "    update, \n",
    "    frames=180,      \n",
    "    interval=50,\n",
    "    blit=False\n",
    ")\n",
    "\n",
    "#ani.save(\"gradient_descent.gif\", writer=\"pillow\", fps=20, dpi=150, bitrate=1000)\n",
    "\n",
    "plt.show()"
   ]
  }
 ],
 "metadata": {
  "kernelspec": {
   "display_name": ".venv",
   "language": "python",
   "name": "python3"
  },
  "language_info": {
   "codemirror_mode": {
    "name": "ipython",
    "version": 3
   },
   "file_extension": ".py",
   "mimetype": "text/x-python",
   "name": "python",
   "nbconvert_exporter": "python",
   "pygments_lexer": "ipython3",
   "version": "3.11.11"
  }
 },
 "nbformat": 4,
 "nbformat_minor": 2
}
