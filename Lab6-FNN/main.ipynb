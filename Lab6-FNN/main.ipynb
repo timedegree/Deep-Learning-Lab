{
 "cells": [
  {
   "cell_type": "code",
   "execution_count": null,
   "metadata": {},
   "outputs": [],
   "source": [
    "from sklearn import datasets\n",
    "from torch import nn\n",
    "import torch"
   ]
  },
  {
   "cell_type": "code",
   "execution_count": null,
   "metadata": {},
   "outputs": [],
   "source": [
    "breast_cancer = datasets.load_breast_cancer()\n",
    "\n",
    "breast_cancer_features_raw = breast_cancer.data\n",
    "breast_cancer_labels_raw = breast_cancer.target"
   ]
  },
  {
   "cell_type": "code",
   "execution_count": null,
   "metadata": {},
   "outputs": [],
   "source": [
    "def FNN(input_dim, hidden_dim, output_dim):\n",
    "    pass\n",
    "\n",
    "def BP():\n",
    "    pass"
   ]
  },
  {
   "cell_type": "code",
   "execution_count": null,
   "metadata": {},
   "outputs": [],
   "source": [
    "class FNN(nn.Module):\n",
    "\n",
    "    def __init__(self):\n",
    "        super().__init__()\n",
    "        self.flatten = nn.Flatten()\n",
    "        self.linear_relu_stack = nn.Sequential(\n",
    "            nn.Linear(30, 8),\n",
    "            nn.ReLU(),\n",
    "            nn.Linear(8, 1),\n",
    "            nn.Sigmoid()\n",
    "        )\n",
    "\n",
    "    def forward(self, x):\n",
    "        x = self.flatten(x)\n",
    "        result = self.linear_relu_stack(x)\n",
    "        return result\n",
    "    \n",
    "def train(model, data, labels):\n",
    "    model.train()\n",
    "    optimizer = torch.optim.SGD(model.parameters(), lr=1e-6)\n",
    "    loss_fn = nn.BCELoss()\n",
    "\n",
    "    for t in range(100000):\n",
    "        y_pred = model(data)\n",
    "        #print(y_pred.view(-1))\n",
    "        loss = loss_fn(y_pred, labels)\n",
    "\n",
    "        #print(f\"Epoch {t + 1}: {loss.item()}\")\n",
    "\n",
    "        optimizer.zero_grad()\n",
    "        loss.backward()\n",
    "        optimizer.step()\n",
    "\n",
    "def predict(model, data):\n",
    "    model.eval()\n",
    "    with torch.no_grad():\n",
    "        y_pred = model(data)\n",
    "        y_pred[y_pred < 0.5] = 0\n",
    "        y_pred[y_pred >= 0.5] = 1\n",
    "        return y_pred.view(-1)\n",
    "\n",
    "def test(model, data, labels):\n",
    "    model.eval()\n",
    "    with torch.no_grad():\n",
    "        y_pred = predict(model, data)\n",
    "        correct = [1 for i in range(len(y_pred)) if y_pred[i] == labels[i]]\n",
    "        accuracy = len(correct) / len(y_pred)\n",
    "        print(f\"Accuracy: {accuracy * 100}%\")"
   ]
  },
  {
   "cell_type": "code",
   "execution_count": null,
   "metadata": {},
   "outputs": [],
   "source": [
    "model = FNN().to('cpu')\n",
    "\n",
    "data = torch.tensor(breast_cancer_features_raw[:285], dtype=torch.float32)\n",
    "labels = torch.tensor(breast_cancer_labels_raw[:285], dtype=torch.float32)\n",
    "labels = labels.view(-1, 1)\n",
    "\n",
    "train(model, data, labels)"
   ]
  },
  {
   "cell_type": "code",
   "execution_count": null,
   "metadata": {},
   "outputs": [],
   "source": [
    "test_data = torch.tensor(breast_cancer_features_raw[285:], dtype=torch.float32)\n",
    "test_labels = torch.tensor(breast_cancer_labels_raw[285:], dtype=torch.float32).view(-1, 1)\n",
    "\n",
    "test(model, test_data, test_labels)"
   ]
  }
 ],
 "metadata": {
  "kernelspec": {
   "display_name": ".venv",
   "language": "python",
   "name": "python3"
  },
  "language_info": {
   "codemirror_mode": {
    "name": "ipython",
    "version": 3
   },
   "file_extension": ".py",
   "mimetype": "text/x-python",
   "name": "python",
   "nbconvert_exporter": "python",
   "pygments_lexer": "ipython3",
   "version": "3.11.11"
  }
 },
 "nbformat": 4,
 "nbformat_minor": 2
}
