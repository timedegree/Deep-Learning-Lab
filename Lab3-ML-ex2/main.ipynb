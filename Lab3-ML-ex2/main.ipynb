{
 "cells": [
  {
   "cell_type": "code",
   "execution_count": null,
   "metadata": {},
   "outputs": [],
   "source": [
    "import matplotlib.pyplot as plt\n",
    "import numpy as np\n",
    "from sklearn import linear_model"
   ]
  },
  {
   "cell_type": "code",
   "execution_count": null,
   "metadata": {},
   "outputs": [],
   "source": [
    "def f(x):\n",
    "    return 10*x + 26"
   ]
  },
  {
   "cell_type": "code",
   "execution_count": null,
   "metadata": {},
   "outputs": [],
   "source": [
    "x = np.linspace(0, 10, 100)\n",
    "y = f(x) + np.random.normal(0,9,100)\n",
    "\n",
    "plt.scatter(x, y)\n",
    "plt.show()"
   ]
  },
  {
   "cell_type": "code",
   "execution_count": null,
   "metadata": {},
   "outputs": [],
   "source": [
    "def hymmnos_LSM(x,y):\n",
    "    X = np.vstack((x, np.ones(len(x)))).T\n",
    "\n",
    "    w = np.linalg.inv((X.T.dot(X))).dot(X.T).dot(y)\n",
    "\n",
    "    return w\n",
    "\n",
    "def hymmnos_RR(x,y,lamb):\n",
    "    X = np.vstack((x, np.ones(len(x)))).T\n",
    "\n",
    "    w = np.linalg.inv((X.T.dot(X) + lamb*np.eye(2))).dot(X.T).dot(y)\n",
    "\n",
    "    return w\n"
   ]
  },
  {
   "cell_type": "code",
   "execution_count": null,
   "metadata": {},
   "outputs": [],
   "source": [
    "_lambda = 0.1\n",
    "\n",
    "X = np.vstack((x, np.ones(len(x)))).T\n",
    "\n",
    "hymmnos_LSM_w = hymmnos_LSM(x,y)\n",
    "hymmnos_RR_w = hymmnos_RR(x,y,_lambda)\n",
    "np_LSM_w = np.linalg.lstsq(X, y, rcond= None)[0]\n",
    "sk_RR_w = linear_model.Ridge(_lambda, fit_intercept=False).fit(X, y).coef_\n",
    "\n",
    "print(\"Hymmnos LSM: \", hymmnos_LSM_w)\n",
    "print(\"Hymmnos RR: \", hymmnos_RR_w)\n",
    "print(\"Numpy LSM: \", np_LSM_w)\n",
    "print(\"Sklearn RR: \", sk_RR_w)"
   ]
  },
  {
   "cell_type": "code",
   "execution_count": null,
   "metadata": {},
   "outputs": [],
   "source": [
    "plt.figure(figsize=(8,8))\n",
    "plt.subplot(221)\n",
    "plt.title(\"Hymmnos LSM\")\n",
    "plt.scatter(x,y)\n",
    "plt.plot(x, hymmnos_LSM_w[0]*x + hymmnos_LSM_w[1], 'r')\n",
    "plt.subplot(222)\n",
    "plt.title(\"Hymmnos RR\")\n",
    "plt.scatter(x,y)\n",
    "plt.plot(x, hymmnos_RR_w[0]*x + hymmnos_RR_w[1], 'r')\n",
    "plt.subplot(223)\n",
    "plt.title(\"Numpy LSM\")\n",
    "plt.scatter(x,y)\n",
    "plt.plot(x, np_LSM_w[0]*x + np_LSM_w[1], 'r')\n",
    "plt.subplot(224)\n",
    "plt.title(\"Sklearn RR\")\n",
    "plt.scatter(x,y)\n",
    "plt.plot(x, sk_RR_w[0]*x + sk_RR_w[1], 'r')\n",
    "plt.show()"
   ]
  },
  {
   "cell_type": "code",
   "execution_count": null,
   "metadata": {},
   "outputs": [],
   "source": [
    "x = np.linspace(-np.pi,np.pi,20)\n",
    "y = np.sin(x) + np.random.normal(0,0.15,20)\n",
    "\n",
    "plt.scatter(x,y)\n",
    "plt.show()"
   ]
  },
  {
   "cell_type": "code",
   "execution_count": null,
   "metadata": {},
   "outputs": [],
   "source": [
    "def hymmnos_LSM_ploynomial(x,y,degree):\n",
    "    X = np.vstack([x**i for i in range(degree+1)]).T\n",
    "\n",
    "    w = np.linalg.inv((X.T.dot(X))).dot(X.T).dot(y)\n",
    "\n",
    "    return w\n",
    "\n",
    "def hymmnos_RR_ploynomial(x,y,degree,lamb):\n",
    "    X = np.vstack([x**i for i in range(degree+1)]).T\n",
    "\n",
    "    w = np.linalg.inv((X.T.dot(X) + lamb*np.eye(degree+1))).dot(X.T).dot(y)\n",
    "\n",
    "    return w"
   ]
  },
  {
   "cell_type": "code",
   "execution_count": null,
   "metadata": {},
   "outputs": [],
   "source": [
    "degree = 5\n",
    "\n",
    "hymmnos_LSM_ploynomial_w = hymmnos_LSM_ploynomial(x,y,degree)\n",
    "hymmnos_RR_ploynomial_w = hymmnos_RR_ploynomial(x,y,degree,_lambda)"
   ]
  },
  {
   "cell_type": "code",
   "execution_count": null,
   "metadata": {},
   "outputs": [],
   "source": [
    "split = np.linspace(-np.pi,np.pi,100)\n",
    "X = np.vstack([split**i for i in range(degree+1)]).T\n",
    "\n",
    "plt.figure(figsize=(10,4))\n",
    "plt.subplot(121)\n",
    "plt.title(\"Hymmnos LSM\")\n",
    "plt.scatter(x,y)\n",
    "plt.plot(split, X.dot(hymmnos_LSM_ploynomial_w), 'r')\n",
    "plt.subplot(122)\n",
    "plt.title(\"Hymmnos RR\")\n",
    "plt.scatter(x,y)\n",
    "plt.plot(split, X.dot(hymmnos_RR_ploynomial_w), 'r')\n",
    "plt.show()"
   ]
  }
 ],
 "metadata": {
  "kernelspec": {
   "display_name": "Python 3",
   "language": "python",
   "name": "python3"
  },
  "language_info": {
   "codemirror_mode": {
    "name": "ipython",
    "version": 3
   },
   "file_extension": ".py",
   "mimetype": "text/x-python",
   "name": "python",
   "nbconvert_exporter": "python",
   "pygments_lexer": "ipython3",
   "version": "3.9.6"
  }
 },
 "nbformat": 4,
 "nbformat_minor": 2
}
