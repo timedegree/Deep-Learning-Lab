{
  "cells": [
    {
      "cell_type": "code",
      "execution_count": null,
      "id": "78b825ad",
      "metadata": {
        "id": "78b825ad"
      },
      "outputs": [],
      "source": [
        "from torch import nn\n",
        "from torchvision import datasets, transforms\n",
        "from torch.utils.data import random_split\n",
        "import matplotlib.pyplot as plt\n",
        "import numpy as np\n",
        "import pandas as pd\n",
        "import torch\n",
        "import re"
      ]
    },
    {
      "cell_type": "code",
      "execution_count": null,
      "id": "e2a6767d",
      "metadata": {
        "colab": {
          "base_uri": "https://localhost:8080/"
        },
        "id": "e2a6767d",
        "outputId": "498b9cc3-4cf6-4358-870a-c737fe165db1"
      },
      "outputs": [],
      "source": [
        "# Dataset Preparation\n",
        "\n",
        "base_transform = transforms.Compose([\n",
        "    transforms.ToTensor(),\n",
        "    transforms.Normalize((0.1307,), (0.3081,)),\n",
        "])\n",
        "\n",
        "train_transform = transforms.Compose([\n",
        "    transforms.ToTensor(),\n",
        "    transforms.Normalize((0.1307,), (0.3081,)),\n",
        "])\n",
        "\n",
        "mnist_train = datasets.MNIST(root='data', train=True, download=True, transform=train_transform)\n",
        "mnist_test = datasets.MNIST(root='data', train=False, download=True, transform=base_transform)\n",
        "\n",
        "train_size = int(0.9 * len(mnist_train))\n",
        "val_size = len(mnist_train) - train_size\n",
        "mnist_train_set, mnist_val_set = random_split(mnist_train, [train_size, val_size])\n",
        "\n",
        "sample, target = mnist_train[0]\n",
        "print(f\"Sample count: {len(mnist_train)}\")\n",
        "print(f\"Sample shape: {sample.shape}, Target: {target}\")\n",
        "print(f\"Sample type: {sample.dtype}, Target type: {type(target)}\")\n",
        "print(f\"Sample min: {sample.min()}, Sample max: {sample.max()}\")\n",
        "print(f\"Sample training set size: {len(mnist_train_set)}\")\n",
        "print(f\"Sample validation set size: {len(mnist_val_set)}\")"
      ]
    },
    {
      "cell_type": "code",
      "execution_count": null,
      "id": "4c64c310",
      "metadata": {
        "colab": {
          "base_uri": "https://localhost:8080/"
        },
        "id": "4c64c310",
        "outputId": "a55c35e4-ad94-4bdb-c04b-e90bcfc9e68b"
      },
      "outputs": [],
      "source": [
        "base_transform = transforms.Compose([\n",
        "    transforms.ToTensor(),\n",
        "    transforms.Normalize((0.4914, 0.4822, 0.4465), (0.2470, 0.2435, 0.2616)),\n",
        "])\n",
        "\n",
        "train_transform = transforms.Compose([\n",
        "    transforms.RandomHorizontalFlip(p=0.5),\n",
        "    transforms.RandomCrop(32, padding=4),\n",
        "    transforms.RandomRotation(45),\n",
        "    transforms.ToTensor(),\n",
        "    transforms.Normalize((0.4914, 0.4822, 0.4465), (0.2470, 0.2435, 0.2616)),\n",
        "])\n",
        "\n",
        "cifar10_train = datasets.CIFAR10(root='data', train=True, download=True, transform=base_transform)\n",
        "cifar10_test = datasets.CIFAR10(root='data', train=False, download=True, transform=base_transform)\n",
        "\n",
        "train_size = int(0.9 * len(cifar10_train))\n",
        "val_size = len(cifar10_train) - train_size\n",
        "cifar10_train_set, cifar10_val_set = random_split(cifar10_train, [train_size, val_size])\n",
        "\n",
        "sample, target = cifar10_train_set[0]\n",
        "print(f\"Sample count: {len(cifar10_train)}\")\n",
        "print(f\"Test count: {len(cifar10_test)}\")\n",
        "print(f\"Sample shape: {sample.shape}, Target: {target}\")\n",
        "print(f\"Sample type: {sample.dtype}, Target type: {type(target)}\")\n",
        "print(f\"Sample min: {sample.min()}, Sample max: {sample.max()}\")\n",
        "print(f\"Sample training set size: {len(cifar10_train_set)}\")\n",
        "print(f\"Sample validation set size: {len(cifar10_val_set)}\")"
      ]
    },
    {
      "cell_type": "code",
      "execution_count": null,
      "id": "3325a98b",
      "metadata": {
        "id": "3325a98b"
      },
      "outputs": [],
      "source": [
        "class Hymmn0s_LeNet(nn.Module):\n",
        "    def __init__(self, num_classes=10, input_channels=1, input_size=28):\n",
        "        super().__init__()\n",
        "        self.stack = nn.Sequential(\n",
        "            nn.Conv2d(input_channels, 6, kernel_size=5, stride=1, padding=int((32-input_size)//2)),\n",
        "            nn.Sigmoid(),\n",
        "            nn.MaxPool2d(kernel_size=2, stride=2),\n",
        "            nn.Conv2d(6,16, kernel_size=5, stride=1, padding=0),\n",
        "            nn.Sigmoid(),\n",
        "            nn.MaxPool2d(kernel_size=2, stride=2),\n",
        "            nn.Conv2d(16,120, kernel_size=5, stride=1, padding=0),\n",
        "            nn.Sigmoid(),\n",
        "            nn.Flatten(),\n",
        "            nn.Linear(120, 84),\n",
        "            nn.Sigmoid(),\n",
        "            nn.Linear(84, num_classes)\n",
        "        )\n",
        "\n",
        "    def forward(self, x):\n",
        "        return self.stack(x)"
      ]
    },
    {
      "cell_type": "code",
      "execution_count": null,
      "id": "d5dea91d",
      "metadata": {
        "id": "d5dea91d"
      },
      "outputs": [],
      "source": [
        "def train(model, train_dataset, val_dataset, model_name):\n",
        "    lr = 0.001\n",
        "    epochs = 50\n",
        "    batch = 128\n",
        "    weight_decay = 2e-4\n",
        "    optimizer = torch.optim.Adam(model.parameters(), lr=lr, weight_decay=weight_decay)\n",
        "    scheduler = torch.optim.lr_scheduler.OneCycleLR(optimizer, max_lr=lr*10, epochs=epochs, steps_per_epoch=len(train_dataset)//batch)\n",
        "    loss_fn = nn.CrossEntropyLoss()\n",
        "\n",
        "    train_loader = torch.utils.data.DataLoader(train_dataset, batch_size=batch, shuffle=True)\n",
        "    val_loader = torch.utils.data.DataLoader(val_dataset, batch_size=batch, shuffle=False)\n",
        "    device = 'cuda' if torch.cuda.is_available() else 'cpu'\n",
        "\n",
        "    model.train()\n",
        "    for epoch in range(epochs):\n",
        "        total_loss = 0.0\n",
        "        for data, labels in train_loader:\n",
        "            data, labels = data.to(device), labels.to(device)\n",
        "\n",
        "            optimizer.zero_grad()\n",
        "            outputs = model(data)\n",
        "            loss = loss_fn(outputs, labels)\n",
        "            loss.backward()\n",
        "            optimizer.step()\n",
        "            scheduler.step()\n",
        "\n",
        "            total_loss += loss.item() * data.size(0)\n",
        "\n",
        "        avg_loss = total_loss / len(train_loader.dataset)\n",
        "        print(f\"Epoch {epoch+1}/{epochs}, Loss: {avg_loss:.4f}\")\n",
        "        if (epoch + 1) % 5 == 0:\n",
        "            torch.save(model.state_dict(), f\"{model_name}_epoch_{epoch+1}.pth\")\n",
        "            print(f\"Model saved at epoch {epoch+1}\")\n",
        "        with torch.no_grad():\n",
        "            correct = 0\n",
        "            total = 0\n",
        "            for data, labels in val_loader:\n",
        "                data, labels = data.to(device), labels.to(device)\n",
        "                outputs = model(data)\n",
        "                predicted = torch.argmax(outputs, 1)\n",
        "                total += labels.size(0)\n",
        "                correct += (predicted == labels).sum().item()\n",
        "            val_accuracy = correct / total\n",
        "            print(f\"Validation Accuracy: {val_accuracy:.4f}\")\n",
        "\n",
        "\n",
        "\n",
        "def test(model, test_dataset):\n",
        "    batch = 256\n",
        "    test_loader = torch.utils.data.DataLoader(test_dataset, batch_size=batch, shuffle=False)\n",
        "    device = 'cuda' if torch.cuda.is_available() else 'cpu'\n",
        "\n",
        "    model.eval()\n",
        "    correct = 0\n",
        "    total = 0\n",
        "\n",
        "    with torch.no_grad():\n",
        "        for data, labels in test_loader:\n",
        "            data, labels = data.to(device), labels.to(device)\n",
        "            outputs = model(data)\n",
        "            predicted = torch.argmax(outputs, 1)\n",
        "            total += labels.size(0)\n",
        "            correct += (predicted == labels).sum().item()\n",
        "\n",
        "    accuracy = 100 * correct / total\n",
        "    print(f\"Test Accuracy: {accuracy:.2f}%\")\n"
      ]
    },
    {
      "cell_type": "code",
      "execution_count": null,
      "id": "NSDV2lh4lTT3",
      "metadata": {
        "colab": {
          "base_uri": "https://localhost:8080/"
        },
        "id": "NSDV2lh4lTT3",
        "outputId": "9281389a-af5c-413f-9c73-1870e5721236"
      },
      "outputs": [],
      "source": [
        "mnist_LeNet_model = Hymmn0s_LeNet(10,1,28).to('cuda' if torch.cuda.is_available() else 'cpu')\n",
        "\n",
        "#train(mnist_LeNet_model,mnist_train_set,mnist_val_set,\"mnist_LeNet_model\")\n",
        "mnist_LeNet_model.load_state_dict(torch.load(\"model/mnist_LeNet_model_epoch_45.pth\"))"
      ]
    },
    {
      "cell_type": "code",
      "execution_count": null,
      "id": "xtCCR6ccxeFr",
      "metadata": {
        "colab": {
          "base_uri": "https://localhost:8080/"
        },
        "id": "xtCCR6ccxeFr",
        "outputId": "c0eca6ce-a9b0-4a63-ee12-f11e5cdd3d42"
      },
      "outputs": [],
      "source": [
        "cifar10_LeNet_model = Hymmn0s_LeNet(10,3,32).to('cuda' if torch.cuda.is_available() else 'cpu')\n",
        "\n",
        "#train(cifar10_LeNet_model,cifar10_train_set,cifar10_val_set,\"cifar10_LeNet_model\")\n",
        "mnist_LeNet_model.load_state_dict(torch.load(\"model/cifar10_LeNet_model_epoch_50.pth\"))"
      ]
    },
    {
      "cell_type": "code",
      "execution_count": null,
      "id": "422270ba",
      "metadata": {
        "colab": {
          "base_uri": "https://localhost:8080/"
        },
        "id": "422270ba",
        "outputId": "dd689d02-5a9a-4356-e6d9-60e349a78b31"
      },
      "outputs": [],
      "source": [
        "mnist_AlexNet_transform = transforms.Compose([\n",
        "    transforms.Resize((224, 224)),\n",
        "    transforms.ToTensor(),\n",
        "    transforms.Normalize((0.1307,), (0.3081,)),\n",
        "])\n",
        "\n",
        "mnist_train = datasets.MNIST(root='data', train=True, download=False, transform=mnist_AlexNet_transform)\n",
        "mnist_test = datasets.MNIST(root='data', train=False, download=False, transform=mnist_AlexNet_transform)\n",
        "\n",
        "train_size = int(0.9 * len(mnist_train))\n",
        "val_size = len(mnist_train) - train_size\n",
        "mnist_train_set, mnist_val_set = random_split(mnist_train, [train_size, val_size])\n",
        "\n",
        "sample, target = mnist_train_set[0]\n",
        "print(f\"Sample count: {len(cifar10_train)}\")\n",
        "print(f\"Test count: {len(cifar10_test)}\")\n",
        "print(f\"Sample shape: {sample.shape}, Target: {target}\")"
      ]
    },
    {
      "cell_type": "code",
      "execution_count": null,
      "id": "2c6c2f02",
      "metadata": {
        "colab": {
          "base_uri": "https://localhost:8080/"
        },
        "id": "2c6c2f02",
        "outputId": "6dfe0cdb-0bee-4611-fa36-74943c596414"
      },
      "outputs": [],
      "source": [
        "cifar10_AlexNet_transform = transforms.Compose([\n",
        "    transforms.Resize((224, 224)),\n",
        "    transforms.ToTensor(),\n",
        "    transforms.Normalize((0.4914, 0.4822, 0.4465), (0.2470, 0.2435, 0.2616)),\n",
        "])\n",
        "\n",
        "cifar10_train = datasets.CIFAR10(root='data', train=True, download=False, transform=cifar10_AlexNet_transform)\n",
        "cifar10_test = datasets.CIFAR10(root='data', train=False, download=False, transform=cifar10_AlexNet_transform)\n",
        "\n",
        "train_size = int(0.9 * len(cifar10_train))\n",
        "val_size = len(cifar10_train) - train_size\n",
        "cifar10_train_set, cifar10_val_set = random_split(cifar10_train, [train_size, val_size])\n",
        "\n",
        "sample, target = cifar10_train_set[0]\n",
        "print(f\"Sample count: {len(cifar10_train)}\")\n",
        "print(f\"Test count: {len(cifar10_test)}\")\n",
        "print(f\"Sample shape: {sample.shape}, Target: {target}\")"
      ]
    },
    {
      "cell_type": "code",
      "execution_count": null,
      "id": "c621258d",
      "metadata": {
        "id": "c621258d"
      },
      "outputs": [],
      "source": [
        "class Hymmn0s_AlexNet(nn.Module):\n",
        "    def __init__(self, num_classes=10, input_channels=3, input_size=32):\n",
        "        super().__init__()\n",
        "        self.stack = nn.Sequential(\n",
        "            nn.Conv2d(input_channels, 96, kernel_size=11, stride=4, padding=0),\n",
        "            nn.ReLU(),\n",
        "            nn.MaxPool2d(kernel_size=3, stride=2, padding=0),\n",
        "            nn.Conv2d(96, 256, kernel_size=5, stride=1, padding=2),\n",
        "            nn.ReLU(),\n",
        "            nn.MaxPool2d(kernel_size=3, stride=2, padding=0),\n",
        "            nn.Conv2d(256, 384, kernel_size=3, stride=1, padding=1),\n",
        "            nn.ReLU(),\n",
        "            nn.Conv2d(384, 384, kernel_size=3, stride=1, padding=1),\n",
        "            nn.ReLU(),\n",
        "            nn.Conv2d(384, 256, kernel_size=3, stride=1, padding=1),\n",
        "            nn.ReLU(),\n",
        "            nn.MaxPool2d(kernel_size=3, stride=2, padding=0),\n",
        "            nn.Flatten(),\n",
        "            nn.Linear(256*5*5, 4096),\n",
        "            nn.ReLU(),\n",
        "            nn.Dropout(),\n",
        "            nn.Linear(4096, 4096),\n",
        "            nn.ReLU(),\n",
        "            nn.Dropout(),\n",
        "            nn.Linear(4096, num_classes)\n",
        "        )\n",
        "\n",
        "    def forward(self, x):\n",
        "        return self.stack(x)"
      ]
    },
    {
      "cell_type": "code",
      "execution_count": null,
      "id": "90431cfa",
      "metadata": {
        "colab": {
          "base_uri": "https://localhost:8080/"
        },
        "id": "90431cfa",
        "outputId": "c6abb879-fe9d-46b4-b912-53498ee0540e"
      },
      "outputs": [],
      "source": [
        "mnist_AlexNet_model = Hymmn0s_AlexNet(10,1,224).to('cuda' if torch.cuda.is_available() else 'cpu')\n",
        "\n",
        "#train(mnist_AlexNet_model, mnist_train_set, mnist_val_set,\"mnist_AlexNet_model\")\n",
        "mnist_AlexNet_model.load_state_dict(torch.load(\"model/mnist_AlexNet_model_epoch_35.pth\"))"
      ]
    },
    {
      "cell_type": "code",
      "execution_count": null,
      "id": "a6DceQ3_r17e",
      "metadata": {
        "colab": {
          "base_uri": "https://localhost:8080/"
        },
        "id": "a6DceQ3_r17e",
        "outputId": "626c3581-7c41-465d-95dc-c8b3b39e38d4"
      },
      "outputs": [],
      "source": [
        "cifar10_AlexNet_model = Hymmn0s_AlexNet(10,3,224).to('cuda' if torch.cuda.is_available() else 'cpu')\n",
        "\n",
        "#train(cifar10_AlexNet_model, cifar10_train_set, cifar10_val_set,\"cifar10_AlexNet_model\")\n",
        "cifar10_AlexNet_model.load_state_dict(torch.load(\"model/cifar10_AlexNet_model_epoch_50.pth\"))"
      ]
    },
    {
      "cell_type": "code",
      "execution_count": null,
      "id": "ba8a60fe",
      "metadata": {},
      "outputs": [],
      "source": [
        "def draw_log(path, title):\n",
        "    with open(path, 'r') as f:\n",
        "        log_text = f.read()\n",
        "\n",
        "    lines = log_text.strip().split('\\n')\n",
        "    pattern = r'Epoch (\\d+)/\\d+.*?Loss: ([\\d.]+).*?Validation Accuracy: ([\\d.]+)'\n",
        "    matches = re.findall(pattern, log_text, re.DOTALL)\n",
        "\n",
        "    epochs = [int(m[0]) for m in matches]\n",
        "    losses = [float(m[1]) for m in matches]\n",
        "    val_acc = [float(m[2]) for m in matches]\n",
        "\n",
        "    plt.figure(figsize=(10, 5))\n",
        "    plt.suptitle(title, fontsize=14, y=-0.02)\n",
        "    plt.subplot(1, 2, 1)\n",
        "    plt.plot(epochs, losses, marker='o')\n",
        "    plt.title('Training Loss')\n",
        "    plt.xlabel('Epochs')\n",
        "    plt.ylabel('Loss')\n",
        "    plt.grid(True)\n",
        "    plt.legend(['Loss'])\n",
        "    plt.subplot(1, 2, 2)\n",
        "    plt.plot(epochs, val_acc, marker='o')\n",
        "    plt.title('Validation Accuracy')\n",
        "    plt.xlabel('Epochs')\n",
        "    plt.ylabel('Accuracy')\n",
        "    plt.grid(True)\n",
        "    plt.legend(['Accuracy'])\n",
        "    plt.tight_layout()\n",
        "    plt.show()"
      ]
    },
    {
      "cell_type": "code",
      "execution_count": null,
      "id": "87043169",
      "metadata": {},
      "outputs": [],
      "source": [
        "log_path_list = [\n",
        "    \"mnist_LeNet.log\",\n",
        "    \"cifar10_LeNet.log\",\n",
        "    \"mnist_AlexNet.log\",\n",
        "    \"cifar10_AlexNet.log\"\n",
        "]\n",
        "title = [\n",
        "    \"LeNet-5: Training Loss & Validation Accuracy on MNIST\",\n",
        "    \"LeNet-5: Training Loss & Validation Accuracy on CIFAR-10\",\n",
        "    \"AlexNet: Training Loss & Validation Accuracy on MNIST\",\n",
        "    \"AlexNet: Training Loss & Validation Accuracy on CIFAR-10\"\n",
        "]\n",
        "\n",
        "for i in range(len(log_path_list)):\n",
        "    draw_log(\"log/\"+log_path_list[i], title[i])"
      ]
    }
  ],
  "metadata": {
    "accelerator": "GPU",
    "colab": {
      "gpuType": "T4",
      "provenance": []
    },
    "kernelspec": {
      "display_name": ".venv",
      "language": "python",
      "name": "python3"
    },
    "language_info": {
      "codemirror_mode": {
        "name": "ipython",
        "version": 3
      },
      "file_extension": ".py",
      "mimetype": "text/x-python",
      "name": "python",
      "nbconvert_exporter": "python",
      "pygments_lexer": "ipython3",
      "version": "3.11.11"
    }
  },
  "nbformat": 4,
  "nbformat_minor": 5
}
