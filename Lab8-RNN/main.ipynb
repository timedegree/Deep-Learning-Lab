{
 "cells": [
  {
   "cell_type": "code",
   "execution_count": 149,
   "id": "07f0d845",
   "metadata": {},
   "outputs": [],
   "source": [
    "from torch import nn\n",
    "from torchvision import transforms, datasets\n",
    "from torch.utils.data import random_split, DataLoader, Dataset\n",
    "from torch.nn.utils.rnn import pad_sequence,pack_padded_sequence\n",
    "import numpy as np\n",
    "import pandas as pd\n",
    "import torch\n",
    "import tiktoken"
   ]
  },
  {
   "cell_type": "code",
   "execution_count": 150,
   "id": "ee53a6f0",
   "metadata": {},
   "outputs": [],
   "source": [
    "import matplotlib.pyplot as plt\n",
    "from tqdm import tqdm\n",
    "tqdm.pandas()\n",
    "\n",
    "import os"
   ]
  },
  {
   "cell_type": "code",
   "execution_count": 151,
   "id": "3d37ad82",
   "metadata": {},
   "outputs": [],
   "source": [
    "def collate_fn(data, pad_value=50257, use_embedding=True):\n",
    "    data.sort(key=lambda x: len(x[0]), reverse=True)\n",
    "    sequences = [x[0] for x in data]\n",
    "    scores = torch.tensor([x[1] for x in data], dtype=torch.float32)\n",
    "\n",
    "    seq_len = [s.size(0) for s in sequences]\n",
    "    padded_seqs_long = pad_sequence(sequences, batch_first=True, padding_value=pad_value)\n",
    "\n",
    "    if use_embedding:\n",
    "        return padded_seqs_long, scores\n",
    "    else:\n",
    "        padded_seqs_float = padded_seqs_long.unsqueeze(-1).float()\n",
    "        packed = pack_padded_sequence(padded_seqs_float, seq_len, batch_first=True, enforce_sorted=True)\n",
    "        \n",
    "        return packed, scores\n",
    "\n",
    "def tokenize_text(text_list, tokenizer):\n",
    "    tokenized_text = []\n",
    "    for text in text_list:\n",
    "        tokens = torch.tensor(tokenizer.encode(text))\n",
    "        tokenized_text.append(tokens)\n",
    "\n",
    "    return tokenized_text\n",
    "\n",
    "class IMDBDataset(Dataset):\n",
    "    def __init__(self, comments_token_ids, sentiments, scores):\n",
    "        self.comments_token_ids = comments_token_ids\n",
    "        self.sentiments = sentiments\n",
    "        self.scores = scores\n",
    "\n",
    "\n",
    "    def __len__(self):\n",
    "        return len(self.comments_token_ids)\n",
    "    \n",
    "    def __getitem__(self, idx):\n",
    "        return self.comments_token_ids[idx], self.scores[idx]\n",
    "    \n",
    "def create_IMDB_dataloader(comments_token_ids, sentiment, scores, batch_size=32, shuffle=True, num_workers=0, use_embedding=True):\n",
    "    dataset = IMDBDataset(comments_token_ids, sentiment, scores)\n",
    "    collate_wrapper = lambda x: collate_fn(x, pad_value=50257, use_embedding=use_embedding)\n",
    "    dataloader = DataLoader(dataset, batch_size=batch_size, shuffle=shuffle, num_workers=num_workers, collate_fn=collate_wrapper)\n",
    "    \n",
    "    return dataloader"
   ]
  },
  {
   "cell_type": "code",
   "execution_count": 152,
   "id": "ebd3180b",
   "metadata": {},
   "outputs": [
    {
     "name": "stdout",
     "output_type": "stream",
     "text": [
      "Sample count: 60000\n",
      "Sample shape: torch.Size([1, 28, 28]), Target: 5\n",
      "Sample type: torch.float32, Target type: <class 'int'>\n",
      "Sample min: -0.4242129623889923, Sample max: 2.821486711502075\n",
      "Sample training set size: 54000\n",
      "Sample validation set size: 6000\n"
     ]
    }
   ],
   "source": [
    "transform = transforms.Compose([\n",
    "    transforms.ToTensor(),\n",
    "    transforms.Normalize((0.1307,), (0.3081,)),\n",
    "])\n",
    "\n",
    "mnist_train = datasets.MNIST(root='data', train=True, download=True, transform=transform)\n",
    "mnist_test = datasets.MNIST(root='data', train=False, download=True, transform=transform)\n",
    "\n",
    "train_size = int(0.9 * len(mnist_train))\n",
    "val_size = len(mnist_train) - train_size\n",
    "mnist_train_set, mnist_val_set = random_split(mnist_train, [train_size, val_size])\n",
    "\n",
    "sample, target = mnist_train[0]\n",
    "print(f\"Sample count: {len(mnist_train)}\")\n",
    "print(f\"Sample shape: {sample.shape}, Target: {target}\")\n",
    "print(f\"Sample type: {sample.dtype}, Target type: {type(target)}\")\n",
    "print(f\"Sample min: {sample.min()}, Sample max: {sample.max()}\")\n",
    "print(f\"Sample training set size: {len(mnist_train_set)}\")\n",
    "print(f\"Sample validation set size: {len(mnist_val_set)}\")"
   ]
  },
  {
   "cell_type": "code",
   "execution_count": 153,
   "id": "a8347874",
   "metadata": {},
   "outputs": [
    {
     "name": "stdout",
     "output_type": "stream",
     "text": [
      "Sample: For movie get respect sure lot memorable quote listed gem . Imagine movie Joe Piscopo actually funny ! Maureen Stapleton scene stealer . The Moroni character absolute scream . Watch Alan The Skipper Hale jr . police Sgt .\n",
      "Sentiment: 1\n",
      "Score: 9\n",
      "Token IDs: tensor([ 1890,  3807,   651,  2461,  1654,  1256, 18078,  9577,  5610, 16840,\n",
      "          764, 18450,  3807,  5689,   350,  2304,   404,    78,  1682,  8258,\n",
      "         5145,  6669, 49851,   520,   499, 10565,  3715,  8711,   263,   764,\n",
      "          383,  3461, 14651,  2095,  4112,  8196,   764,  6305, 12246,   383,\n",
      "         3661, 14710, 35056,   474,    81,   764,  1644, 22925,   764])\n",
      "Reconstructed: For movie get respect sure lot memorable quote listed gem . Imagine movie Joe Piscopo actually funny ! Maureen Stapleton scene stealer . The Moroni character absolute scream . Watch Alan The Skipper Hale jr . police Sgt .\n"
     ]
    }
   ],
   "source": [
    "IMDB_train = pd.read_csv(\"data/IMDB_train.csv\")\n",
    "IMDB_test = pd.read_csv(\"data/IMDB_test.csv\")\n",
    "\n",
    "train_comments = IMDB_train[\"preprocessed_comments\"].to_list()\n",
    "train_sentiments = IMDB_train[\"sentiment\"].to_list()\n",
    "train_scores = IMDB_train[\"score\"].to_list()\n",
    "test_comments = IMDB_test[\"preprocessed_comments\"].to_list()\n",
    "test_sentiments = IMDB_test[\"sentiment\"].to_list()\n",
    "test_scores = IMDB_test[\"score\"].to_list()\n",
    "tokenizer = tiktoken.get_encoding(\"gpt2\")\n",
    "\n",
    "tokenized_train_comments = tokenize_text(train_comments, tokenizer)\n",
    "tokenized_test_comments = tokenize_text(test_comments, tokenizer)\n",
    "sample = train_comments[0]\n",
    "sample_sentiment = train_sentiments[0]\n",
    "sample_score = train_scores[0]\n",
    "token_ids = tokenized_train_comments[0]\n",
    "reconstructed = tokenizer.decode(token_ids.tolist())\n",
    "\n",
    "print(f\"Sample: {sample}\")\n",
    "print(f\"Sentiment: {sample_sentiment}\")\n",
    "print(f\"Score: {sample_score}\")\n",
    "print(f\"Token IDs: {token_ids}\")\n",
    "print(f\"Reconstructed: {reconstructed}\")"
   ]
  },
  {
   "cell_type": "code",
   "execution_count": 154,
   "id": "ce354bec",
   "metadata": {},
   "outputs": [],
   "source": [
    "vocab_size = 50257\n",
    "embedding_dim = 64\n",
    "padding_token_id = vocab_size\n",
    "\n",
    "train_data = create_IMDB_dataloader(tokenized_train_comments, train_sentiments, train_scores)\n",
    "test_data = create_IMDB_dataloader(tokenized_test_comments, test_sentiments, test_scores)\n",
    "\n",
    "#sample = next(iter(train_data))\n",
    "#print(f\"Sample: {sample[0]}, Target: {sample[1]}\")"
   ]
  }
 ],
 "metadata": {
  "kernelspec": {
   "display_name": ".venv",
   "language": "python",
   "name": "python3"
  },
  "language_info": {
   "codemirror_mode": {
    "name": "ipython",
    "version": 3
   },
   "file_extension": ".py",
   "mimetype": "text/x-python",
   "name": "python",
   "nbconvert_exporter": "python",
   "pygments_lexer": "ipython3",
   "version": "3.11.11"
  }
 },
 "nbformat": 4,
 "nbformat_minor": 5
}
