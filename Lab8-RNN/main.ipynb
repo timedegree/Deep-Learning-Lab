{
 "cells": [
  {
   "cell_type": "code",
   "execution_count": 19,
   "id": "07f0d845",
   "metadata": {},
   "outputs": [],
   "source": [
    "from torch import nn\n",
    "from torchvision import transforms, datasets\n",
    "from torch.utils.data import random_split, DataLoader\n",
    "import numpy as np\n",
    "import pandas as pd\n",
    "import torch"
   ]
  },
  {
   "cell_type": "code",
   "execution_count": 20,
   "id": "9063c446",
   "metadata": {},
   "outputs": [],
   "source": [
    "from nltk.tokenize import word_tokenize, sent_tokenize\n",
    "from nltk.corpus import stopwords\n",
    "from nltk.stem.wordnet import WordNetLemmatizer\n",
    "import nltk\n",
    "import tiktoken\n",
    "\n",
    "#nltk.download(\"stopwords\",download_dir=\"./data/nltk_data\")"
   ]
  },
  {
   "cell_type": "code",
   "execution_count": null,
   "id": "ee53a6f0",
   "metadata": {},
   "outputs": [],
   "source": [
    "import matplotlib.pyplot as plt\n",
    "from tqdm import tqdm\n",
    "\n",
    "import os"
   ]
  },
  {
   "cell_type": "code",
   "execution_count": 17,
   "id": "ebd3180b",
   "metadata": {},
   "outputs": [
    {
     "name": "stdout",
     "output_type": "stream",
     "text": [
      "Sample count: 60000\n",
      "Sample shape: torch.Size([1, 28, 28]), Target: 5\n",
      "Sample type: torch.float32, Target type: <class 'int'>\n",
      "Sample min: -0.4242129623889923, Sample max: 2.821486711502075\n",
      "Sample training set size: 54000\n",
      "Sample validation set size: 6000\n"
     ]
    }
   ],
   "source": [
    "transform = transforms.Compose([\n",
    "    transforms.ToTensor(),\n",
    "    transforms.Normalize((0.1307,), (0.3081,)),\n",
    "])\n",
    "\n",
    "mnist_train = datasets.MNIST(root='data', train=True, download=True, transform=transform)\n",
    "mnist_test = datasets.MNIST(root='data', train=False, download=True, transform=transform)\n",
    "\n",
    "train_size = int(0.9 * len(mnist_train))\n",
    "val_size = len(mnist_train) - train_size\n",
    "mnist_train_set, mnist_val_set = random_split(mnist_train, [train_size, val_size])\n",
    "\n",
    "sample, target = mnist_train[0]\n",
    "print(f\"Sample count: {len(mnist_train)}\")\n",
    "print(f\"Sample shape: {sample.shape}, Target: {target}\")\n",
    "print(f\"Sample type: {sample.dtype}, Target type: {type(target)}\")\n",
    "print(f\"Sample min: {sample.min()}, Sample max: {sample.max()}\")\n",
    "print(f\"Sample training set size: {len(mnist_train_set)}\")\n",
    "print(f\"Sample validation set size: {len(mnist_val_set)}\")"
   ]
  },
  {
   "cell_type": "code",
   "execution_count": null,
   "id": "a8347874",
   "metadata": {},
   "outputs": [
    {
     "data": {
      "text/plain": [
       "score\n",
       "1     5100\n",
       "10    4732\n",
       "8     3009\n",
       "4     2696\n",
       "7     2496\n",
       "3     2420\n",
       "2     2284\n",
       "9     2263\n",
       "Name: count, dtype: int64"
      ]
     },
     "execution_count": 28,
     "metadata": {},
     "output_type": "execute_result"
    }
   ],
   "source": [
    "IMDB_train = pd.read_csv(\"data/IMDB_train.csv\")\n",
    "IMDB_test = pd.read_csv(\"data/IMDB_test.csv\")\n",
    "\n",
    "#IMDB_train.head()\n",
    "#IMDB_train.score.value_counts()\n",
    "IMDB_train.sentiment.value_counts()\n"
   ]
  },
  {
   "cell_type": "code",
   "execution_count": 29,
   "id": "6db5a829",
   "metadata": {},
   "outputs": [
    {
     "data": {
      "text/plain": [
       "Series([], Name: count, dtype: int64)"
      ]
     },
     "execution_count": 29,
     "metadata": {},
     "output_type": "execute_result"
    }
   ],
   "source": [
    "IMDB_test.score.value_counts()"
   ]
  }
 ],
 "metadata": {
  "kernelspec": {
   "display_name": ".venv",
   "language": "python",
   "name": "python3"
  },
  "language_info": {
   "codemirror_mode": {
    "name": "ipython",
    "version": 3
   },
   "file_extension": ".py",
   "mimetype": "text/x-python",
   "name": "python",
   "nbconvert_exporter": "python",
   "pygments_lexer": "ipython3",
   "version": "3.11.11"
  }
 },
 "nbformat": 4,
 "nbformat_minor": 5
}
