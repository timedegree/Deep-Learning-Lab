{
 "cells": [
  {
   "cell_type": "code",
   "execution_count": null,
   "metadata": {},
   "outputs": [],
   "source": [
    "import numpy as np\n",
    "import matplotlib.pyplot as plt\n",
    "from PIL import Image"
   ]
  },
  {
   "cell_type": "code",
   "execution_count": null,
   "metadata": {},
   "outputs": [],
   "source": [
    "# create a 3x4 matrix, range from 0 to 11\n",
    "for row in np.arange(12).reshape(3, 4):\n",
    "    print(row.mean())"
   ]
  },
  {
   "cell_type": "code",
   "execution_count": null,
   "metadata": {},
   "outputs": [],
   "source": [
    "# create a 5x5 indentify matrix and swap row 2 and row 3\n",
    "imat = np.eye(5)\n",
    "imat[[1, 2]] = imat[[2, 1]]\n",
    "print(imat)"
   ]
  },
  {
   "cell_type": "code",
   "execution_count": null,
   "metadata": {},
   "outputs": [],
   "source": [
    "# create a random 4x5 matrix, range from 10 to 50.finally, print the position index of the value graater than 40\n",
    "rmat = np.random.randint(10, 50, (4, 5))\n",
    "print(rmat)\n",
    "x,y=np.where(rmat > 40)[0],np.where(rmat > 40)[1]\n",
    "for i in range(len(x)):\n",
    "    print(\"x=%d y=%d value=%d\"%(x[i]+1, y[i]+1, rmat[x[i], y[i]]))"
   ]
  },
  {
   "cell_type": "code",
   "execution_count": null,
   "metadata": {},
   "outputs": [],
   "source": [
    "# read an image \"exmple.jpg\" and show the gray version\n",
    "example = Image.open(\"example-miku.jpg\")\n",
    "gray_example = example.convert(\"L\")\n",
    "plt.imshow(gray_example, cmap=\"gray\")\n",
    "\n",
    "example.close()"
   ]
  },
  {
   "cell_type": "code",
   "execution_count": null,
   "metadata": {},
   "outputs": [],
   "source": [
    "# read an image \"example.png\",then use sobel filter to get the edge of the image\n",
    "G_x = np.array([[-1, 0, 1], [-2, 0, 2], [-1, 0, 1]])\n",
    "G_y = np.array([[1, 2, 1], [0, 0, 0], [-1, -2, -1]])\n",
    "\n",
    "example = Image.open(\"example-miku.jpg\")\n",
    "origin = example.copy()\n",
    "example = example.convert(\"L\")\n",
    "example = np.array(example)\n",
    "height, width = example.shape\n",
    "\n",
    "result = np.zeros((height, width))\n",
    "for i in range(1, height - 1):\n",
    "    for j in range(1, width - 1):\n",
    "        result[i, j] = np.sqrt((np.sum(G_x * example[i - 1:i + 2, j - 1:j + 2])) ** 2 + (np.sum(G_y * example[i - 1:i + 2, j - 1:j + 2])) ** 2)\n",
    "\n",
    "plt.figure(figsize=(8,16))\n",
    "plt.subplot(1,2,1)\n",
    "plt.title(\"origin\")\n",
    "plt.imshow(origin)\n",
    "plt.subplot(1,2,2)\n",
    "plt.title(\"gray\")\n",
    "plt.imshow(result, cmap=\"gray\")\n",
    "plt.show()"
   ]
  },
  {
   "cell_type": "code",
   "execution_count": null,
   "metadata": {},
   "outputs": [],
   "source": [
    "# read an image \"example.jpg\" and split to NxN patches,then shuffle the patches and show the result \n",
    "N = 10\n",
    "example = Image.open(\"example-miku.jpg\")\n",
    "example = example.convert(\"RGB\")\n",
    "example = np.array(example)\n",
    "\n",
    "height, width, _ = example.shape\n",
    "patch_size = (height//N,width//N)\n",
    "patches = []\n",
    "\n",
    "for i in range(0, height, patch_size[0]):\n",
    "    for j in range(0, width, patch_size[1]):\n",
    "        patch = example[i:i+patch_size[0], j:j+patch_size[1]]\n",
    "        patches.append(patch)\n",
    "\n",
    "np.random.shuffle(patches)\n",
    "\n",
    "shuffled_image = np.zeros_like(example)\n",
    "patch_idx = 0\n",
    "for i in range(0, height, patch_size[0]):\n",
    "    for j in range(0, width, patch_size[1]):\n",
    "        shuffled_image[i:i+patch_size[0], j:j+patch_size[1]] = patches[patch_idx]\n",
    "        patch_idx += 1\n",
    "\n",
    "\n",
    "plt.figure(figsize=(8,16))\n",
    "plt.subplot(1,2,1)\n",
    "plt.title(\"origin\")\n",
    "plt.imshow(example)\n",
    "plt.subplot(1,2,2)\n",
    "plt.title(\"shuffled\")\n",
    "plt.imshow(shuffled_image)\n",
    "plt.show()"
   ]
  },
  {
   "cell_type": "markdown",
   "metadata": {},
   "source": []
  }
 ],
 "metadata": {
  "kernelspec": {
   "display_name": "Python 3",
   "language": "python",
   "name": "python3"
  },
  "language_info": {
   "codemirror_mode": {
    "name": "ipython",
    "version": 3
   },
   "file_extension": ".py",
   "mimetype": "text/x-python",
   "name": "python",
   "nbconvert_exporter": "python",
   "pygments_lexer": "ipython3",
   "version": "3.9.6"
  }
 },
 "nbformat": 4,
 "nbformat_minor": 2
}
