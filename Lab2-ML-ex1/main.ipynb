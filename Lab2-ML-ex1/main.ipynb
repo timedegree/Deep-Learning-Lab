{
 "cells": [
  {
   "cell_type": "code",
   "execution_count": null,
   "metadata": {},
   "outputs": [],
   "source": [
    "import numpy as np\n",
    "import matplotlib.pyplot as plt"
   ]
  },
  {
   "cell_type": "code",
   "execution_count": null,
   "metadata": {},
   "outputs": [],
   "source": [
    "x = np.linspace(-np.pi,np.pi,20)\n",
    "y = np.sin(x) + np.random.normal(0,0.15,20)\n",
    "\n",
    "plt.scatter(x,y)\n",
    "plt.show()"
   ]
  },
  {
   "cell_type": "code",
   "execution_count": null,
   "metadata": {},
   "outputs": [],
   "source": [
    "def loss(A,w,y):\n",
    "    return np.mean((A.dot(w)-y)**2)\n",
    "\n",
    "def loss_with_norm(A,w,y):\n",
    "    return np.mean(A.dot(w)-y)**2 + 0.5*np.linalg.norm(w)**2"
   ]
  },
  {
   "cell_type": "code",
   "execution_count": null,
   "metadata": {},
   "outputs": [],
   "source": [
    "def grad_descent(arg_num,learning_rate,iter_times):\n",
    "    w = np.zeros(arg_num)\n",
    "    A = np.vstack([x**i for i in range(arg_num)]).T\n",
    "    \n",
    "    \n",
    "    for epoch in range(iter_times):\n",
    "        grad = A.T.dot(A.dot(w)-y)/len(x)\n",
    "        w -= learning_rate * grad\n",
    "        #print(\"epoch\",epoch+1,\"w: \",w)\n",
    "    return w\n",
    "\n",
    "def grad_descent_with_norm(arg_num,learning_rate,iter_times):\n",
    "    w = np.zeros(arg_num)\n",
    "    A = np.vstack([x**i for i in range(arg_num)]).T\n",
    "    \n",
    "    for epoch in range(iter_times):\n",
    "        grad = A.T.dot(A.dot(w)-y)/len(x) + 0.1*w\n",
    "        w -= learning_rate * grad\n",
    "        #print(\"epoch\",epoch+1,\"w: \",w)\n",
    "    return w\n"
   ]
  },
  {
   "cell_type": "code",
   "execution_count": null,
   "metadata": {},
   "outputs": [],
   "source": [
    "plt.figure(figsize=(8,6))\n",
    "learning_rate_list = [1,1e-3,1.5e-7]\n",
    "iter_times_list = [1000,100000,50000000]\n",
    "arg_num_list = [1,4,9]\n",
    "split = np.linspace(-np.pi, np.pi, 10000)\n",
    "\n",
    "for i in range(2):\n",
    "    for j in range(3):\n",
    "        plt.subplot(2,3,i*3+j+1)\n",
    "        plt.scatter(x, y, alpha=0.5)\n",
    "        \n",
    "        arg_num = arg_num_list[j]\n",
    "        if i == 0:\n",
    "            w = grad_descent(arg_num,learning_rate_list[j],iter_times_list[j])\n",
    "            title = f'Degree {arg_num-1}'\n",
    "        else:\n",
    "            w = grad_descent_with_norm(arg_num,learning_rate_list[j],iter_times_list[j])\n",
    "            title = f'Degree {arg_num-1} (L2)'\n",
    "        \n",
    "        #print(w) \n",
    "        A_split = np.vstack([split**i for i in range(arg_num)]).T\n",
    "        y_fit = A_split.dot(w)\n",
    "        \n",
    "        plt.plot(split, np.sin(split),'cyan', linewidth=2)\n",
    "        plt.plot(split, y_fit, 'r', linewidth=2)\n",
    "        plt.ylim(np.min(y)-1, np.max(y)+1)\n",
    "        plt.title(title)\n",
    "\n",
    "plt.tight_layout()\n",
    "plt.show()\n"
   ]
  }
 ],
 "metadata": {
  "kernelspec": {
   "display_name": "Python 3",
   "language": "python",
   "name": "python3"
  },
  "language_info": {
   "codemirror_mode": {
    "name": "ipython",
    "version": 3
   },
   "file_extension": ".py",
   "mimetype": "text/x-python",
   "name": "python",
   "nbconvert_exporter": "python",
   "pygments_lexer": "ipython3",
   "version": "3.9.6"
  }
 },
 "nbformat": 4,
 "nbformat_minor": 2
}
