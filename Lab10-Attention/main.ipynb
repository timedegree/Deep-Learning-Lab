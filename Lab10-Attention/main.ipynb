{
 "cells": [
  {
   "cell_type": "code",
   "execution_count": 1,
   "id": "89b02635",
   "metadata": {},
   "outputs": [],
   "source": [
    "from torch import nn\n",
    "from torchvision import transforms, datasets\n",
    "from torch.utils.data import random_split, DataLoader, Dataset\n",
    "from torch.nn.utils.rnn import pad_sequence,pack_padded_sequence\n",
    "import pandas as pd\n",
    "import numpy as np\n",
    "import torch\n",
    "import tiktoken"
   ]
  },
  {
   "cell_type": "code",
   "execution_count": 2,
   "id": "85bb8900",
   "metadata": {},
   "outputs": [],
   "source": [
    "import matplotlib.pyplot as plt\n",
    "from tqdm import tqdm\n",
    "\n",
    "import os\n",
    "import csv"
   ]
  },
  {
   "cell_type": "code",
   "execution_count": 3,
   "id": "55a04676",
   "metadata": {},
   "outputs": [],
   "source": [
    "class MultiHeadAttention(nn.Module):\n",
    "    def __init__(self, in_dim, out_dim, num_heads, qkv_bias=False,dropout=0.5):\n",
    "        super().__init__()\n",
    "        assert out_dim % num_heads == 0, \"out_dim must be divisible by num_heads\"\n",
    "\n",
    "        self.out_dim = out_dim\n",
    "        self.num_heads = num_heads\n",
    "        self.head_dim = out_dim // num_heads\n",
    "        self.W_query = nn.Linear(in_dim, out_dim, bias=qkv_bias)\n",
    "        self.W_key = nn.Linear(in_dim, out_dim, bias=qkv_bias)\n",
    "        self.W_value = nn.Linear(in_dim, out_dim, bias=qkv_bias)\n",
    "        self.out_proj = nn.Linear(out_dim, out_dim)\n",
    "        self.dropout = nn.Dropout(dropout)\n",
    "\n",
    "    def forward(self, x, mask=None):\n",
    "        batch_size, num_tokens, d_in = x.shape\n",
    "\n",
    "        keys = self.W_key(x)\n",
    "        queries = self.W_query(x)\n",
    "        values = self.W_value(x)\n",
    "        keys = keys.view(batch_size, num_tokens, self.num_heads, self.head_dim).transpose(1, 2)\n",
    "        queries = queries.view(batch_size, num_tokens, self.num_heads, self.head_dim).transpose(1, 2)\n",
    "        values = values.view(batch_size, num_tokens, self.num_heads, self.head_dim).transpose(1, 2)\n",
    "\n",
    "        attn_scores = queries @ keys.transpose(-2, -1)\n",
    "\n",
    "        if mask is not None:\n",
    "            attn_scores = attn_scores.masked_fill(mask, -float('inf'))\n",
    "\n",
    "        attn_weights = torch.softmax(attn_scores / keys.shape[-1]**0.5, dim=-1)\n",
    "        attn_weights = self.dropout(attn_weights)\n",
    "\n",
    "        context_vec = (attn_weights @ values).transpose(1,2)\n",
    "        \n",
    "        context_vec = context_vec.contiguous().view(batch_size, num_tokens, self.out_dim)\n",
    "        context_vec = self.out_proj(context_vec)\n",
    "\n",
    "        return context_vec"
   ]
  },
  {
   "cell_type": "code",
   "execution_count": 4,
   "id": "cc5f130a",
   "metadata": {},
   "outputs": [
    {
     "name": "stdout",
     "output_type": "stream",
     "text": [
      "torch.Size([2, 4, 8])\n",
      "tensor([[[ 0.8665,  0.2822,  0.1707,  0.1518,  0.1589,  0.3176, -0.0626,\n",
      "           0.1324],\n",
      "         [ 0.4470,  0.5765,  0.2906,  0.0124,  0.2632,  0.3065,  0.0925,\n",
      "           0.0418],\n",
      "         [ 0.3864,  0.3200,  0.3298,  0.0256,  0.1668,  0.2123,  0.0124,\n",
      "           0.0444],\n",
      "         [ 0.1204,  0.1652,  0.1083, -0.0546, -0.0377,  0.0032,  0.0326,\n",
      "          -0.0546]],\n",
      "\n",
      "        [[-0.4230,  0.8487,  0.3177, -0.5951,  0.1589,  0.7937,  0.5888,\n",
      "          -0.2419],\n",
      "         [ 0.4717,  0.5985,  0.3959, -0.0641,  0.2011,  0.4977, -0.0581,\n",
      "           0.1307],\n",
      "         [ 0.1771,  0.1797, -0.0064, -0.2630, -0.0373,  0.3439,  0.3814,\n",
      "          -0.2410],\n",
      "         [ 0.5918,  0.4746,  0.3549, -0.0980,  0.2015,  0.5385,  0.1179,\n",
      "           0.0720]]], grad_fn=<ViewBackward0>)\n"
     ]
    }
   ],
   "source": [
    "batch = torch.randn(2, 4, 4)\n",
    "batch_size, num_tokens, d_in = batch.shape\n",
    "attn = MultiHeadAttention(in_dim=d_in, out_dim=8, num_heads=2)\n",
    "out = attn(batch)\n",
    "\n",
    "print(out.shape)\n",
    "print(out)"
   ]
  },
  {
   "cell_type": "code",
   "execution_count": 5,
   "id": "cdc20bdb",
   "metadata": {},
   "outputs": [],
   "source": [
    "def collate_fn_imdb(data, pad_value=50257):\n",
    "    data.sort(key=lambda x: len(x[0]), reverse=True)\n",
    "    sequences = [x[0] for x in data]\n",
    "    scores = torch.tensor([x[1] for x in data], dtype=torch.float32)\n",
    "    labels = torch.tensor([x[2] for x in data], dtype=torch.float32)\n",
    "\n",
    "    original_seq_lengths = torch.tensor([len(s) for s in sequences], dtype=torch.long)\n",
    "    padded_seqs_long = pad_sequence(sequences, batch_first=True, padding_value=pad_value)\n",
    "\n",
    "    return padded_seqs_long, original_seq_lengths, scores, labels\n",
    "\n",
    "def tokenize_text(text_list, tokenizer):\n",
    "    tokenized_text = []\n",
    "    for text in text_list:\n",
    "        tokens = torch.tensor(tokenizer.encode(text))\n",
    "        tokenized_text.append(tokens)\n",
    "\n",
    "    return tokenized_text\n",
    "\n",
    "def detokenize_text(token_ids, tokenizer):\n",
    "    detokenized_text = []\n",
    "    for tokens in token_ids:\n",
    "        text = tokenizer.decode(tokens.tolist())\n",
    "        detokenized_text.append(text)\n",
    "\n",
    "    return detokenized_text\n",
    "\n",
    "class IMDBDataset(Dataset):\n",
    "    def __init__(self, comments_token_ids, sentiments, scores):\n",
    "        self.comments_token_ids = comments_token_ids\n",
    "        self.sentiments = sentiments\n",
    "        self.scores = scores\n",
    "\n",
    "    def __len__(self):\n",
    "        return len(self.comments_token_ids)\n",
    "    \n",
    "    def __getitem__(self, idx):\n",
    "        return self.comments_token_ids[idx], self.scores[idx], self.sentiments[idx]\n",
    "    \n",
    "def create_IMDB_dataloader(dataset, batch_size=32, shuffle=True, num_workers=0, pad_value=50257):\n",
    "    collate_wrapper = lambda x: collate_fn_imdb(x, pad_value=pad_value)\n",
    "    dataloader = DataLoader(dataset, batch_size=batch_size, shuffle=shuffle, num_workers=num_workers, collate_fn=collate_wrapper)\n",
    "    return dataloader"
   ]
  },
  {
   "cell_type": "code",
   "execution_count": 6,
   "id": "717b1421",
   "metadata": {},
   "outputs": [
    {
     "name": "stdout",
     "output_type": "stream",
     "text": [
      "Sample: For movie get respect sure lot memorable quote listed gem . Imagine movie Joe Piscopo actually funny ! Maureen Stapleton scene stealer . The Moroni character absolute scream . Watch Alan The Skipper Hale jr . police Sgt .\n",
      "Sentiment: 1\n",
      "Score: 9\n",
      "Token IDs: tensor([ 1890,  3807,   651,  2461,  1654,  1256, 18078,  9577,  5610, 16840,\n",
      "          764, 18450,  3807,  5689,   350,  2304,   404,    78,  1682,  8258,\n",
      "         5145,  6669, 49851,   520,   499, 10565,  3715,  8711,   263,   764,\n",
      "          383,  3461, 14651,  2095,  4112,  8196,   764,  6305, 12246,   383,\n",
      "         3661, 14710, 35056,   474,    81,   764,  1644, 22925,   764])\n",
      "Reconstructed: For movie get respect sure lot memorable quote listed gem . Imagine movie Joe Piscopo actually funny ! Maureen Stapleton scene stealer . The Moroni character absolute scream . Watch Alan The Skipper Hale jr . police Sgt .\n"
     ]
    }
   ],
   "source": [
    "IMDB_train = pd.read_csv(\"autodl-tmp/IMDB_train.csv\")\n",
    "IMDB_test = pd.read_csv(\"autodl-tmp/IMDB_test.csv\")\n",
    "\n",
    "train_comments = IMDB_train[\"preprocessed_comments\"].to_list()\n",
    "train_sentiments = IMDB_train[\"sentiment\"].to_list()\n",
    "train_scores = IMDB_train[\"score\"].to_list()\n",
    "test_comments = IMDB_test[\"preprocessed_comments\"].to_list()\n",
    "test_sentiments = IMDB_test[\"sentiment\"].to_list()\n",
    "test_scores = IMDB_test[\"score\"].to_list()\n",
    "tokenizer = tiktoken.get_encoding(\"gpt2\")\n",
    "\n",
    "tokenized_train_comments = tokenize_text(train_comments, tokenizer)\n",
    "tokenized_test_comments = tokenize_text(test_comments, tokenizer)\n",
    "sample = train_comments[0]\n",
    "sample_sentiment = train_sentiments[0]\n",
    "sample_score = train_scores[0]\n",
    "token_ids = tokenized_train_comments[0]\n",
    "reconstructed = tokenizer.decode(token_ids.tolist())\n",
    "\n",
    "print(f\"Sample: {sample}\")\n",
    "print(f\"Sentiment: {sample_sentiment}\")\n",
    "print(f\"Score: {sample_score}\")\n",
    "print(f\"Token IDs: {token_ids}\")\n",
    "print(f\"Reconstructed: {reconstructed}\")"
   ]
  },
  {
   "cell_type": "code",
   "execution_count": 27,
   "id": "10b9ef27",
   "metadata": {},
   "outputs": [],
   "source": [
    "class GRUAttention(nn.Module):\n",
    "    def __init__(self, in_dim, out_dim, num_heads, max_seq_len=1500, qkv_bias=False, dropout=0.5, vocab_size=50257, padding=50257):\n",
    "        super().__init__()\n",
    "        self.padding_idx = padding\n",
    "        self.token_embedding = nn.Embedding(vocab_size + 1, in_dim, padding_idx=padding)\n",
    "        self.pos_embedding = nn.Embedding(max_seq_len, in_dim)\n",
    "        self.attention = MultiHeadAttention(in_dim, out_dim, num_heads, qkv_bias, dropout)\n",
    "        self.relu1 = nn.ReLU()\n",
    "        self.gru = nn.GRU(out_dim, out_dim//2, num_layers=1, batch_first=True)\n",
    "        self.relu2 = nn.ReLU()\n",
    "        self.fc = nn.Linear(out_dim//2, 1) \n",
    "\n",
    "    def forward(self, x):\n",
    "        batch_size, num_tokens = x.shape\n",
    "\n",
    "        token_embeddings = self.token_embedding(x)\n",
    "        positions = torch.arange(num_tokens, device=x.device).unsqueeze(0).expand(batch_size, -1)\n",
    "        pos_embeddings = self.pos_embedding(positions)\n",
    "        input_embeddings = token_embeddings + pos_embeddings\n",
    "\n",
    "        attn_mask = (x == self.padding_idx).unsqueeze(1).unsqueeze(2)\n",
    "        \n",
    "        attn_output = self.attention(input_embeddings, mask=attn_mask)\n",
    "        attn_output = self.relu1(attn_output)\n",
    "        \n",
    "        gru_output, _ = self.gru(attn_output)\n",
    "        pooled_gru_output = gru_output.mean(dim=1) \n",
    "        result = self.fc(pooled_gru_output)\n",
    "\n",
    "        return result.squeeze(-1)\n",
    "    \n",
    "def train(model, train_dataset, val_dataset, lr=1e-3, epochs=10, batch_size=64):\n",
    "    device = torch.device(\"cuda\" if torch.cuda.is_available() else \"cpu\")\n",
    "    optimizer = torch.optim.Adam(model.parameters(), lr=lr)\n",
    "    loss_fn = nn.MSELoss()\n",
    "\n",
    "    train_loader = create_IMDB_dataloader(train_dataset, batch_size=batch_size)\n",
    "    val_loader = create_IMDB_dataloader(val_dataset, batch_size=batch_size)\n",
    "    model.to(device)\n",
    "\n",
    "    best_val_loss = float('inf')\n",
    "\n",
    "    log_dir = \"training_logs\"\n",
    "    os.makedirs(log_dir, exist_ok=True)\n",
    "    log_file_path = os.path.join(log_dir, \"training_metrics.csv\")\n",
    "\n",
    "    with open(log_file_path, 'w', newline='') as csvfile:\n",
    "        fieldnames = ['Epoch', 'Train_Loss', 'Val_Loss', 'Val_Accuracy']\n",
    "        writer = csv.DictWriter(csvfile, fieldnames=fieldnames)\n",
    "        writer.writeheader()\n",
    "\n",
    "        for epoch in range(epochs):\n",
    "            model.train()\n",
    "            total_loss = 0.0\n",
    "            for batch in tqdm(train_loader, desc=f\"Epoch {epoch+1}/{epochs}\"):\n",
    "                inputs, seq_lengths, scores, labels = batch\n",
    "                inputs = inputs.to(device)\n",
    "                scores = scores.to(device)\n",
    "                labels = labels.to(device)\n",
    "\n",
    "                optimizer.zero_grad()\n",
    "                outputs = model(inputs)\n",
    "                loss = loss_fn(outputs, scores)\n",
    "                total_loss += loss.item()\n",
    "                loss.backward()\n",
    "                optimizer.step()\n",
    "            avg_loss = total_loss / len(train_loader)\n",
    "            print(f\"Epoch {epoch+1}/{epochs}, Train Loss(MSE): {avg_loss:.4f}\")\n",
    "\n",
    "            model.eval()\n",
    "            val_loss = 0.0\n",
    "            correct_sentiments = 0\n",
    "            total_sentiments_samples = 0\n",
    "            with torch.no_grad():\n",
    "                for batch in tqdm(val_loader, desc=\"Validation\"):\n",
    "                    inputs, seq_lengths, scores, labels = batch\n",
    "                    inputs = inputs.to(device)\n",
    "                    scores = scores.to(device)\n",
    "                    labels = labels.to(device)\n",
    "\n",
    "                    outputs = model(inputs)\n",
    "                    loss = loss_fn(outputs, scores)\n",
    "                    val_loss += loss.item()\n",
    "                    predicted_sentiments = (outputs > 5).float()\n",
    "                    correct_sentiments += (predicted_sentiments == labels).sum().item()\n",
    "                    total_sentiments_samples += labels.size(0)\n",
    "            accuracy = correct_sentiments / total_sentiments_samples\n",
    "            avg_val_loss = val_loss / len(val_loader)\n",
    "            print(f\"Epoch {epoch+1}/{epochs}, Validation Loss(MSE): {avg_val_loss:.4f}, Sentiment Accuracy: {accuracy:.4f}\")\n",
    "            \n",
    "            writer.writerow({\n",
    "                'Epoch': epoch + 1,\n",
    "                'Train_Loss': avg_loss,\n",
    "                'Val_Loss': avg_val_loss,\n",
    "                'Val_Accuracy': accuracy\n",
    "            })\n",
    "            csvfile.flush()\n",
    "            os.fsync(csvfile.fileno())\n",
    "\n",
    "            if avg_val_loss < best_val_loss:\n",
    "                best_val_loss = avg_val_loss\n",
    "                os.makedirs(\"model\", exist_ok=True)\n",
    "                torch.save(model.state_dict(), \"model/best_model.pth\")\n",
    "                print(f\"Best model saved with validation loss: {best_val_loss:.4f}\")\n",
    "\n",
    "def test(model, test_dataset, batch_size=64):\n",
    "    device = torch.device(\"cuda\" if torch.cuda.is_available() else \"cpu\")\n",
    "    loss_fn = nn.MSELoss()\n",
    "\n",
    "    test_loader = create_IMDB_dataloader(test_dataset, batch_size=batch_size, shuffle=False)\n",
    "    model.to(device)\n",
    "    model.eval()\n",
    "\n",
    "    total_loss = 0.0\n",
    "    correct_sentiments = 0\n",
    "    total_sentiments_samples = 0\n",
    "\n",
    "    with torch.no_grad():\n",
    "        for batch in tqdm(test_loader, desc=\"Testing\"):\n",
    "            inputs, seq_lengths, scores, labels = batch\n",
    "            inputs = inputs.to(device)\n",
    "            scores = scores.to(device)\n",
    "            labels = labels.to(device)\n",
    "\n",
    "            outputs = model(inputs)\n",
    "            loss = loss_fn(outputs, scores)\n",
    "            total_loss += loss.item()\n",
    "\n",
    "            predicted_sentiments = (outputs > 5).float()\n",
    "            correct_sentiments += (predicted_sentiments == labels).sum().item()\n",
    "            total_sentiments_samples += labels.size(0)\n",
    "\n",
    "    avg_loss = total_loss / len(test_loader)\n",
    "    accuracy = correct_sentiments / total_sentiments_samples\n",
    "\n",
    "    print(f\"Test Loss(MSE): {avg_loss:.4f}, Test Sentiment Accuracy: {accuracy:.4f}\")"
   ]
  },
  {
   "cell_type": "code",
   "execution_count": 28,
   "id": "eeffd1ff",
   "metadata": {},
   "outputs": [],
   "source": [
    "train_dataset = IMDBDataset(tokenized_train_comments, train_sentiments, train_scores)\n",
    "test_dataset = IMDBDataset(tokenized_test_comments, test_sentiments, test_scores)\n",
    "\n",
    "train_size = int(0.9 * len(train_dataset))\n",
    "val_size = len(train_dataset) - train_size\n",
    "train_dataset, val_dataset = random_split(train_dataset, [train_size, val_size])"
   ]
  },
  {
   "cell_type": "code",
   "execution_count": 29,
   "id": "231010d7",
   "metadata": {},
   "outputs": [
    {
     "name": "stderr",
     "output_type": "stream",
     "text": [
      "Epoch 1/50: 100%|██████████| 704/704 [00:06<00:00, 102.99it/s]\n"
     ]
    },
    {
     "name": "stdout",
     "output_type": "stream",
     "text": [
      "Epoch 1/50, Train Loss(MSE): 19.2020\n"
     ]
    },
    {
     "name": "stderr",
     "output_type": "stream",
     "text": [
      "Validation: 100%|██████████| 79/79 [00:00<00:00, 327.88it/s]\n"
     ]
    },
    {
     "name": "stdout",
     "output_type": "stream",
     "text": [
      "Epoch 1/50, Validation Loss(MSE): 12.6444, Sentiment Accuracy: 0.5052\n",
      "Best model saved with validation loss: 12.6444\n"
     ]
    },
    {
     "name": "stderr",
     "output_type": "stream",
     "text": [
      "Epoch 2/50: 100%|██████████| 704/704 [00:06<00:00, 104.34it/s]\n"
     ]
    },
    {
     "name": "stdout",
     "output_type": "stream",
     "text": [
      "Epoch 2/50, Train Loss(MSE): 12.1107\n"
     ]
    },
    {
     "name": "stderr",
     "output_type": "stream",
     "text": [
      "Validation: 100%|██████████| 79/79 [00:00<00:00, 335.58it/s]\n"
     ]
    },
    {
     "name": "stdout",
     "output_type": "stream",
     "text": [
      "Epoch 2/50, Validation Loss(MSE): 12.2496, Sentiment Accuracy: 0.4948\n",
      "Best model saved with validation loss: 12.2496\n"
     ]
    },
    {
     "name": "stderr",
     "output_type": "stream",
     "text": [
      "Epoch 3/50: 100%|██████████| 704/704 [00:06<00:00, 107.03it/s]\n"
     ]
    },
    {
     "name": "stdout",
     "output_type": "stream",
     "text": [
      "Epoch 3/50, Train Loss(MSE): 11.9959\n"
     ]
    },
    {
     "name": "stderr",
     "output_type": "stream",
     "text": [
      "Validation: 100%|██████████| 79/79 [00:00<00:00, 328.66it/s]\n"
     ]
    },
    {
     "name": "stdout",
     "output_type": "stream",
     "text": [
      "Epoch 3/50, Validation Loss(MSE): 12.2468, Sentiment Accuracy: 0.4948\n",
      "Best model saved with validation loss: 12.2468\n"
     ]
    },
    {
     "name": "stderr",
     "output_type": "stream",
     "text": [
      "Epoch 4/50: 100%|██████████| 704/704 [00:06<00:00, 108.07it/s]\n"
     ]
    },
    {
     "name": "stdout",
     "output_type": "stream",
     "text": [
      "Epoch 4/50, Train Loss(MSE): 11.9838\n"
     ]
    },
    {
     "name": "stderr",
     "output_type": "stream",
     "text": [
      "Validation: 100%|██████████| 79/79 [00:00<00:00, 313.51it/s]\n"
     ]
    },
    {
     "name": "stdout",
     "output_type": "stream",
     "text": [
      "Epoch 4/50, Validation Loss(MSE): 12.2251, Sentiment Accuracy: 0.4948\n",
      "Best model saved with validation loss: 12.2251\n"
     ]
    },
    {
     "name": "stderr",
     "output_type": "stream",
     "text": [
      "Epoch 5/50: 100%|██████████| 704/704 [00:06<00:00, 104.72it/s]\n"
     ]
    },
    {
     "name": "stdout",
     "output_type": "stream",
     "text": [
      "Epoch 5/50, Train Loss(MSE): 11.8638\n"
     ]
    },
    {
     "name": "stderr",
     "output_type": "stream",
     "text": [
      "Validation: 100%|██████████| 79/79 [00:00<00:00, 324.56it/s]\n"
     ]
    },
    {
     "name": "stdout",
     "output_type": "stream",
     "text": [
      "Epoch 5/50, Validation Loss(MSE): 11.4191, Sentiment Accuracy: 0.5956\n",
      "Best model saved with validation loss: 11.4191\n"
     ]
    },
    {
     "name": "stderr",
     "output_type": "stream",
     "text": [
      "Epoch 6/50: 100%|██████████| 704/704 [00:06<00:00, 104.24it/s]\n"
     ]
    },
    {
     "name": "stdout",
     "output_type": "stream",
     "text": [
      "Epoch 6/50, Train Loss(MSE): 9.5124\n"
     ]
    },
    {
     "name": "stderr",
     "output_type": "stream",
     "text": [
      "Validation: 100%|██████████| 79/79 [00:00<00:00, 322.17it/s]\n"
     ]
    },
    {
     "name": "stdout",
     "output_type": "stream",
     "text": [
      "Epoch 6/50, Validation Loss(MSE): 8.7115, Sentiment Accuracy: 0.7400\n",
      "Best model saved with validation loss: 8.7115\n"
     ]
    },
    {
     "name": "stderr",
     "output_type": "stream",
     "text": [
      "Epoch 7/50: 100%|██████████| 704/704 [00:06<00:00, 105.62it/s]\n"
     ]
    },
    {
     "name": "stdout",
     "output_type": "stream",
     "text": [
      "Epoch 7/50, Train Loss(MSE): 7.5621\n"
     ]
    },
    {
     "name": "stderr",
     "output_type": "stream",
     "text": [
      "Validation: 100%|██████████| 79/79 [00:00<00:00, 343.28it/s]\n"
     ]
    },
    {
     "name": "stdout",
     "output_type": "stream",
     "text": [
      "Epoch 7/50, Validation Loss(MSE): 7.3112, Sentiment Accuracy: 0.7680\n",
      "Best model saved with validation loss: 7.3112\n"
     ]
    },
    {
     "name": "stderr",
     "output_type": "stream",
     "text": [
      "Epoch 8/50: 100%|██████████| 704/704 [00:06<00:00, 106.73it/s]\n"
     ]
    },
    {
     "name": "stdout",
     "output_type": "stream",
     "text": [
      "Epoch 8/50, Train Loss(MSE): 6.5656\n"
     ]
    },
    {
     "name": "stderr",
     "output_type": "stream",
     "text": [
      "Validation: 100%|██████████| 79/79 [00:00<00:00, 343.44it/s]\n"
     ]
    },
    {
     "name": "stdout",
     "output_type": "stream",
     "text": [
      "Epoch 8/50, Validation Loss(MSE): 6.7119, Sentiment Accuracy: 0.7884\n",
      "Best model saved with validation loss: 6.7119\n"
     ]
    },
    {
     "name": "stderr",
     "output_type": "stream",
     "text": [
      "Epoch 9/50: 100%|██████████| 704/704 [00:06<00:00, 103.83it/s]\n"
     ]
    },
    {
     "name": "stdout",
     "output_type": "stream",
     "text": [
      "Epoch 9/50, Train Loss(MSE): 5.9693\n"
     ]
    },
    {
     "name": "stderr",
     "output_type": "stream",
     "text": [
      "Validation: 100%|██████████| 79/79 [00:00<00:00, 334.37it/s]\n"
     ]
    },
    {
     "name": "stdout",
     "output_type": "stream",
     "text": [
      "Epoch 9/50, Validation Loss(MSE): 6.3265, Sentiment Accuracy: 0.8076\n",
      "Best model saved with validation loss: 6.3265\n"
     ]
    },
    {
     "name": "stderr",
     "output_type": "stream",
     "text": [
      "Epoch 10/50: 100%|██████████| 704/704 [00:06<00:00, 103.82it/s]\n"
     ]
    },
    {
     "name": "stdout",
     "output_type": "stream",
     "text": [
      "Epoch 10/50, Train Loss(MSE): 5.5674\n"
     ]
    },
    {
     "name": "stderr",
     "output_type": "stream",
     "text": [
      "Validation: 100%|██████████| 79/79 [00:00<00:00, 325.22it/s]\n"
     ]
    },
    {
     "name": "stdout",
     "output_type": "stream",
     "text": [
      "Epoch 10/50, Validation Loss(MSE): 6.2076, Sentiment Accuracy: 0.8016\n",
      "Best model saved with validation loss: 6.2076\n"
     ]
    },
    {
     "name": "stderr",
     "output_type": "stream",
     "text": [
      "Epoch 11/50: 100%|██████████| 704/704 [00:06<00:00, 106.43it/s]\n"
     ]
    },
    {
     "name": "stdout",
     "output_type": "stream",
     "text": [
      "Epoch 11/50, Train Loss(MSE): 5.2399\n"
     ]
    },
    {
     "name": "stderr",
     "output_type": "stream",
     "text": [
      "Validation: 100%|██████████| 79/79 [00:00<00:00, 318.94it/s]\n"
     ]
    },
    {
     "name": "stdout",
     "output_type": "stream",
     "text": [
      "Epoch 11/50, Validation Loss(MSE): 5.8618, Sentiment Accuracy: 0.8304\n",
      "Best model saved with validation loss: 5.8618\n"
     ]
    },
    {
     "name": "stderr",
     "output_type": "stream",
     "text": [
      "Epoch 12/50: 100%|██████████| 704/704 [00:06<00:00, 103.87it/s]\n"
     ]
    },
    {
     "name": "stdout",
     "output_type": "stream",
     "text": [
      "Epoch 12/50, Train Loss(MSE): 4.9988\n"
     ]
    },
    {
     "name": "stderr",
     "output_type": "stream",
     "text": [
      "Validation: 100%|██████████| 79/79 [00:00<00:00, 313.65it/s]\n"
     ]
    },
    {
     "name": "stdout",
     "output_type": "stream",
     "text": [
      "Epoch 12/50, Validation Loss(MSE): 5.6999, Sentiment Accuracy: 0.8352\n",
      "Best model saved with validation loss: 5.6999\n"
     ]
    },
    {
     "name": "stderr",
     "output_type": "stream",
     "text": [
      "Epoch 13/50: 100%|██████████| 704/704 [00:06<00:00, 105.01it/s]\n"
     ]
    },
    {
     "name": "stdout",
     "output_type": "stream",
     "text": [
      "Epoch 13/50, Train Loss(MSE): 4.7478\n"
     ]
    },
    {
     "name": "stderr",
     "output_type": "stream",
     "text": [
      "Validation: 100%|██████████| 79/79 [00:00<00:00, 332.64it/s]\n"
     ]
    },
    {
     "name": "stdout",
     "output_type": "stream",
     "text": [
      "Epoch 13/50, Validation Loss(MSE): 5.5932, Sentiment Accuracy: 0.8384\n",
      "Best model saved with validation loss: 5.5932\n"
     ]
    },
    {
     "name": "stderr",
     "output_type": "stream",
     "text": [
      "Epoch 14/50: 100%|██████████| 704/704 [00:06<00:00, 105.29it/s]\n"
     ]
    },
    {
     "name": "stdout",
     "output_type": "stream",
     "text": [
      "Epoch 14/50, Train Loss(MSE): 4.5334\n"
     ]
    },
    {
     "name": "stderr",
     "output_type": "stream",
     "text": [
      "Validation: 100%|██████████| 79/79 [00:00<00:00, 341.83it/s]\n"
     ]
    },
    {
     "name": "stdout",
     "output_type": "stream",
     "text": [
      "Epoch 14/50, Validation Loss(MSE): 5.5352, Sentiment Accuracy: 0.8428\n",
      "Best model saved with validation loss: 5.5352\n"
     ]
    },
    {
     "name": "stderr",
     "output_type": "stream",
     "text": [
      "Epoch 15/50: 100%|██████████| 704/704 [00:06<00:00, 105.72it/s]\n"
     ]
    },
    {
     "name": "stdout",
     "output_type": "stream",
     "text": [
      "Epoch 15/50, Train Loss(MSE): 4.3408\n"
     ]
    },
    {
     "name": "stderr",
     "output_type": "stream",
     "text": [
      "Validation: 100%|██████████| 79/79 [00:00<00:00, 332.13it/s]\n"
     ]
    },
    {
     "name": "stdout",
     "output_type": "stream",
     "text": [
      "Epoch 15/50, Validation Loss(MSE): 5.5163, Sentiment Accuracy: 0.8420\n",
      "Best model saved with validation loss: 5.5163\n"
     ]
    },
    {
     "name": "stderr",
     "output_type": "stream",
     "text": [
      "Epoch 16/50: 100%|██████████| 704/704 [00:06<00:00, 103.80it/s]\n"
     ]
    },
    {
     "name": "stdout",
     "output_type": "stream",
     "text": [
      "Epoch 16/50, Train Loss(MSE): 4.1644\n"
     ]
    },
    {
     "name": "stderr",
     "output_type": "stream",
     "text": [
      "Validation: 100%|██████████| 79/79 [00:00<00:00, 327.07it/s]\n"
     ]
    },
    {
     "name": "stdout",
     "output_type": "stream",
     "text": [
      "Epoch 16/50, Validation Loss(MSE): 5.5897, Sentiment Accuracy: 0.8404\n"
     ]
    },
    {
     "name": "stderr",
     "output_type": "stream",
     "text": [
      "Epoch 17/50: 100%|██████████| 704/704 [00:06<00:00, 104.31it/s]\n"
     ]
    },
    {
     "name": "stdout",
     "output_type": "stream",
     "text": [
      "Epoch 17/50, Train Loss(MSE): 4.0072\n"
     ]
    },
    {
     "name": "stderr",
     "output_type": "stream",
     "text": [
      "Validation: 100%|██████████| 79/79 [00:00<00:00, 312.20it/s]\n"
     ]
    },
    {
     "name": "stdout",
     "output_type": "stream",
     "text": [
      "Epoch 17/50, Validation Loss(MSE): 5.3890, Sentiment Accuracy: 0.8484\n",
      "Best model saved with validation loss: 5.3890\n"
     ]
    },
    {
     "name": "stderr",
     "output_type": "stream",
     "text": [
      "Epoch 18/50: 100%|██████████| 704/704 [00:06<00:00, 104.76it/s]\n"
     ]
    },
    {
     "name": "stdout",
     "output_type": "stream",
     "text": [
      "Epoch 18/50, Train Loss(MSE): 3.8483\n"
     ]
    },
    {
     "name": "stderr",
     "output_type": "stream",
     "text": [
      "Validation: 100%|██████████| 79/79 [00:00<00:00, 331.29it/s]\n"
     ]
    },
    {
     "name": "stdout",
     "output_type": "stream",
     "text": [
      "Epoch 18/50, Validation Loss(MSE): 5.3094, Sentiment Accuracy: 0.8460\n",
      "Best model saved with validation loss: 5.3094\n"
     ]
    },
    {
     "name": "stderr",
     "output_type": "stream",
     "text": [
      "Epoch 19/50: 100%|██████████| 704/704 [00:06<00:00, 104.32it/s]\n"
     ]
    },
    {
     "name": "stdout",
     "output_type": "stream",
     "text": [
      "Epoch 19/50, Train Loss(MSE): 3.7065\n"
     ]
    },
    {
     "name": "stderr",
     "output_type": "stream",
     "text": [
      "Validation: 100%|██████████| 79/79 [00:00<00:00, 340.53it/s]\n"
     ]
    },
    {
     "name": "stdout",
     "output_type": "stream",
     "text": [
      "Epoch 19/50, Validation Loss(MSE): 5.2459, Sentiment Accuracy: 0.8500\n",
      "Best model saved with validation loss: 5.2459\n"
     ]
    },
    {
     "name": "stderr",
     "output_type": "stream",
     "text": [
      "Epoch 20/50: 100%|██████████| 704/704 [00:06<00:00, 105.07it/s]\n"
     ]
    },
    {
     "name": "stdout",
     "output_type": "stream",
     "text": [
      "Epoch 20/50, Train Loss(MSE): 3.5704\n"
     ]
    },
    {
     "name": "stderr",
     "output_type": "stream",
     "text": [
      "Validation: 100%|██████████| 79/79 [00:00<00:00, 326.20it/s]\n"
     ]
    },
    {
     "name": "stdout",
     "output_type": "stream",
     "text": [
      "Epoch 20/50, Validation Loss(MSE): 5.2291, Sentiment Accuracy: 0.8516\n",
      "Best model saved with validation loss: 5.2291\n"
     ]
    },
    {
     "name": "stderr",
     "output_type": "stream",
     "text": [
      "Epoch 21/50: 100%|██████████| 704/704 [00:06<00:00, 104.83it/s]\n"
     ]
    },
    {
     "name": "stdout",
     "output_type": "stream",
     "text": [
      "Epoch 21/50, Train Loss(MSE): 3.4363\n"
     ]
    },
    {
     "name": "stderr",
     "output_type": "stream",
     "text": [
      "Validation: 100%|██████████| 79/79 [00:00<00:00, 318.29it/s]\n"
     ]
    },
    {
     "name": "stdout",
     "output_type": "stream",
     "text": [
      "Epoch 21/50, Validation Loss(MSE): 5.2512, Sentiment Accuracy: 0.8544\n"
     ]
    },
    {
     "name": "stderr",
     "output_type": "stream",
     "text": [
      "Epoch 22/50: 100%|██████████| 704/704 [00:06<00:00, 106.48it/s]\n"
     ]
    },
    {
     "name": "stdout",
     "output_type": "stream",
     "text": [
      "Epoch 22/50, Train Loss(MSE): 3.3060\n"
     ]
    },
    {
     "name": "stderr",
     "output_type": "stream",
     "text": [
      "Validation: 100%|██████████| 79/79 [00:00<00:00, 321.00it/s]\n"
     ]
    },
    {
     "name": "stdout",
     "output_type": "stream",
     "text": [
      "Epoch 22/50, Validation Loss(MSE): 5.2351, Sentiment Accuracy: 0.8532\n"
     ]
    },
    {
     "name": "stderr",
     "output_type": "stream",
     "text": [
      "Epoch 23/50: 100%|██████████| 704/704 [00:06<00:00, 105.31it/s]\n"
     ]
    },
    {
     "name": "stdout",
     "output_type": "stream",
     "text": [
      "Epoch 23/50, Train Loss(MSE): 3.1746\n"
     ]
    },
    {
     "name": "stderr",
     "output_type": "stream",
     "text": [
      "Validation: 100%|██████████| 79/79 [00:00<00:00, 336.49it/s]\n"
     ]
    },
    {
     "name": "stdout",
     "output_type": "stream",
     "text": [
      "Epoch 23/50, Validation Loss(MSE): 5.2562, Sentiment Accuracy: 0.8572\n"
     ]
    },
    {
     "name": "stderr",
     "output_type": "stream",
     "text": [
      "Epoch 24/50: 100%|██████████| 704/704 [00:06<00:00, 103.04it/s]\n"
     ]
    },
    {
     "name": "stdout",
     "output_type": "stream",
     "text": [
      "Epoch 24/50, Train Loss(MSE): 3.0667\n"
     ]
    },
    {
     "name": "stderr",
     "output_type": "stream",
     "text": [
      "Validation: 100%|██████████| 79/79 [00:00<00:00, 304.82it/s]\n"
     ]
    },
    {
     "name": "stdout",
     "output_type": "stream",
     "text": [
      "Epoch 24/50, Validation Loss(MSE): 5.4908, Sentiment Accuracy: 0.8600\n"
     ]
    },
    {
     "name": "stderr",
     "output_type": "stream",
     "text": [
      "Epoch 25/50: 100%|██████████| 704/704 [00:06<00:00, 103.69it/s]\n"
     ]
    },
    {
     "name": "stdout",
     "output_type": "stream",
     "text": [
      "Epoch 25/50, Train Loss(MSE): 2.9569\n"
     ]
    },
    {
     "name": "stderr",
     "output_type": "stream",
     "text": [
      "Validation: 100%|██████████| 79/79 [00:00<00:00, 336.19it/s]\n"
     ]
    },
    {
     "name": "stdout",
     "output_type": "stream",
     "text": [
      "Epoch 25/50, Validation Loss(MSE): 5.2472, Sentiment Accuracy: 0.8584\n"
     ]
    },
    {
     "name": "stderr",
     "output_type": "stream",
     "text": [
      "Epoch 26/50: 100%|██████████| 704/704 [00:06<00:00, 102.45it/s]\n"
     ]
    },
    {
     "name": "stdout",
     "output_type": "stream",
     "text": [
      "Epoch 26/50, Train Loss(MSE): 2.8400\n"
     ]
    },
    {
     "name": "stderr",
     "output_type": "stream",
     "text": [
      "Validation: 100%|██████████| 79/79 [00:00<00:00, 327.20it/s]\n"
     ]
    },
    {
     "name": "stdout",
     "output_type": "stream",
     "text": [
      "Epoch 26/50, Validation Loss(MSE): 5.1781, Sentiment Accuracy: 0.8624\n",
      "Best model saved with validation loss: 5.1781\n"
     ]
    },
    {
     "name": "stderr",
     "output_type": "stream",
     "text": [
      "Epoch 27/50: 100%|██████████| 704/704 [00:06<00:00, 101.94it/s]\n"
     ]
    },
    {
     "name": "stdout",
     "output_type": "stream",
     "text": [
      "Epoch 27/50, Train Loss(MSE): 2.7418\n"
     ]
    },
    {
     "name": "stderr",
     "output_type": "stream",
     "text": [
      "Validation: 100%|██████████| 79/79 [00:00<00:00, 324.90it/s]\n"
     ]
    },
    {
     "name": "stdout",
     "output_type": "stream",
     "text": [
      "Epoch 27/50, Validation Loss(MSE): 5.1879, Sentiment Accuracy: 0.8628\n"
     ]
    },
    {
     "name": "stderr",
     "output_type": "stream",
     "text": [
      "Epoch 28/50: 100%|██████████| 704/704 [00:06<00:00, 102.23it/s]\n"
     ]
    },
    {
     "name": "stdout",
     "output_type": "stream",
     "text": [
      "Epoch 28/50, Train Loss(MSE): 2.6392\n"
     ]
    },
    {
     "name": "stderr",
     "output_type": "stream",
     "text": [
      "Validation: 100%|██████████| 79/79 [00:00<00:00, 329.84it/s]\n"
     ]
    },
    {
     "name": "stdout",
     "output_type": "stream",
     "text": [
      "Epoch 28/50, Validation Loss(MSE): 5.1856, Sentiment Accuracy: 0.8628\n"
     ]
    },
    {
     "name": "stderr",
     "output_type": "stream",
     "text": [
      "Epoch 29/50: 100%|██████████| 704/704 [00:06<00:00, 104.55it/s]\n"
     ]
    },
    {
     "name": "stdout",
     "output_type": "stream",
     "text": [
      "Epoch 29/50, Train Loss(MSE): 2.5430\n"
     ]
    },
    {
     "name": "stderr",
     "output_type": "stream",
     "text": [
      "Validation: 100%|██████████| 79/79 [00:00<00:00, 330.30it/s]\n"
     ]
    },
    {
     "name": "stdout",
     "output_type": "stream",
     "text": [
      "Epoch 29/50, Validation Loss(MSE): 5.2946, Sentiment Accuracy: 0.8584\n"
     ]
    },
    {
     "name": "stderr",
     "output_type": "stream",
     "text": [
      "Epoch 30/50: 100%|██████████| 704/704 [00:06<00:00, 104.38it/s]\n"
     ]
    },
    {
     "name": "stdout",
     "output_type": "stream",
     "text": [
      "Epoch 30/50, Train Loss(MSE): 2.4575\n"
     ]
    },
    {
     "name": "stderr",
     "output_type": "stream",
     "text": [
      "Validation: 100%|██████████| 79/79 [00:00<00:00, 322.17it/s]\n"
     ]
    },
    {
     "name": "stdout",
     "output_type": "stream",
     "text": [
      "Epoch 30/50, Validation Loss(MSE): 5.2938, Sentiment Accuracy: 0.8636\n"
     ]
    },
    {
     "name": "stderr",
     "output_type": "stream",
     "text": [
      "Epoch 31/50: 100%|██████████| 704/704 [00:06<00:00, 105.00it/s]\n"
     ]
    },
    {
     "name": "stdout",
     "output_type": "stream",
     "text": [
      "Epoch 31/50, Train Loss(MSE): 2.3681\n"
     ]
    },
    {
     "name": "stderr",
     "output_type": "stream",
     "text": [
      "Validation: 100%|██████████| 79/79 [00:00<00:00, 325.28it/s]\n"
     ]
    },
    {
     "name": "stdout",
     "output_type": "stream",
     "text": [
      "Epoch 31/50, Validation Loss(MSE): 5.3937, Sentiment Accuracy: 0.8584\n"
     ]
    },
    {
     "name": "stderr",
     "output_type": "stream",
     "text": [
      "Epoch 32/50: 100%|██████████| 704/704 [00:06<00:00, 104.38it/s]\n"
     ]
    },
    {
     "name": "stdout",
     "output_type": "stream",
     "text": [
      "Epoch 32/50, Train Loss(MSE): 2.2969\n"
     ]
    },
    {
     "name": "stderr",
     "output_type": "stream",
     "text": [
      "Validation: 100%|██████████| 79/79 [00:00<00:00, 326.35it/s]\n"
     ]
    },
    {
     "name": "stdout",
     "output_type": "stream",
     "text": [
      "Epoch 32/50, Validation Loss(MSE): 5.5323, Sentiment Accuracy: 0.8588\n"
     ]
    },
    {
     "name": "stderr",
     "output_type": "stream",
     "text": [
      "Epoch 33/50: 100%|██████████| 704/704 [00:06<00:00, 106.03it/s]\n"
     ]
    },
    {
     "name": "stdout",
     "output_type": "stream",
     "text": [
      "Epoch 33/50, Train Loss(MSE): 2.2160\n"
     ]
    },
    {
     "name": "stderr",
     "output_type": "stream",
     "text": [
      "Validation: 100%|██████████| 79/79 [00:00<00:00, 329.43it/s]\n"
     ]
    },
    {
     "name": "stdout",
     "output_type": "stream",
     "text": [
      "Epoch 33/50, Validation Loss(MSE): 5.4705, Sentiment Accuracy: 0.8588\n"
     ]
    },
    {
     "name": "stderr",
     "output_type": "stream",
     "text": [
      "Epoch 34/50: 100%|██████████| 704/704 [00:06<00:00, 109.13it/s]\n"
     ]
    },
    {
     "name": "stdout",
     "output_type": "stream",
     "text": [
      "Epoch 34/50, Train Loss(MSE): 2.1595\n"
     ]
    },
    {
     "name": "stderr",
     "output_type": "stream",
     "text": [
      "Validation: 100%|██████████| 79/79 [00:00<00:00, 341.35it/s]\n"
     ]
    },
    {
     "name": "stdout",
     "output_type": "stream",
     "text": [
      "Epoch 34/50, Validation Loss(MSE): 5.3498, Sentiment Accuracy: 0.8616\n"
     ]
    },
    {
     "name": "stderr",
     "output_type": "stream",
     "text": [
      "Epoch 35/50: 100%|██████████| 704/704 [00:06<00:00, 105.34it/s]\n"
     ]
    },
    {
     "name": "stdout",
     "output_type": "stream",
     "text": [
      "Epoch 35/50, Train Loss(MSE): 2.0897\n"
     ]
    },
    {
     "name": "stderr",
     "output_type": "stream",
     "text": [
      "Validation: 100%|██████████| 79/79 [00:00<00:00, 338.80it/s]\n"
     ]
    },
    {
     "name": "stdout",
     "output_type": "stream",
     "text": [
      "Epoch 35/50, Validation Loss(MSE): 5.4294, Sentiment Accuracy: 0.8588\n"
     ]
    },
    {
     "name": "stderr",
     "output_type": "stream",
     "text": [
      "Epoch 36/50: 100%|██████████| 704/704 [00:06<00:00, 105.00it/s]\n"
     ]
    },
    {
     "name": "stdout",
     "output_type": "stream",
     "text": [
      "Epoch 36/50, Train Loss(MSE): 2.0418\n"
     ]
    },
    {
     "name": "stderr",
     "output_type": "stream",
     "text": [
      "Validation: 100%|██████████| 79/79 [00:00<00:00, 318.84it/s]\n"
     ]
    },
    {
     "name": "stdout",
     "output_type": "stream",
     "text": [
      "Epoch 36/50, Validation Loss(MSE): 5.3329, Sentiment Accuracy: 0.8608\n"
     ]
    },
    {
     "name": "stderr",
     "output_type": "stream",
     "text": [
      "Epoch 37/50: 100%|██████████| 704/704 [00:06<00:00, 104.78it/s]\n"
     ]
    },
    {
     "name": "stdout",
     "output_type": "stream",
     "text": [
      "Epoch 37/50, Train Loss(MSE): 1.9734\n"
     ]
    },
    {
     "name": "stderr",
     "output_type": "stream",
     "text": [
      "Validation: 100%|██████████| 79/79 [00:00<00:00, 342.39it/s]\n"
     ]
    },
    {
     "name": "stdout",
     "output_type": "stream",
     "text": [
      "Epoch 37/50, Validation Loss(MSE): 5.4233, Sentiment Accuracy: 0.8576\n"
     ]
    },
    {
     "name": "stderr",
     "output_type": "stream",
     "text": [
      "Epoch 38/50: 100%|██████████| 704/704 [00:06<00:00, 104.06it/s]\n"
     ]
    },
    {
     "name": "stdout",
     "output_type": "stream",
     "text": [
      "Epoch 38/50, Train Loss(MSE): 1.9390\n"
     ]
    },
    {
     "name": "stderr",
     "output_type": "stream",
     "text": [
      "Validation: 100%|██████████| 79/79 [00:00<00:00, 335.96it/s]\n"
     ]
    },
    {
     "name": "stdout",
     "output_type": "stream",
     "text": [
      "Epoch 38/50, Validation Loss(MSE): 5.4382, Sentiment Accuracy: 0.8572\n"
     ]
    },
    {
     "name": "stderr",
     "output_type": "stream",
     "text": [
      "Epoch 39/50: 100%|██████████| 704/704 [00:06<00:00, 104.93it/s]\n"
     ]
    },
    {
     "name": "stdout",
     "output_type": "stream",
     "text": [
      "Epoch 39/50, Train Loss(MSE): 1.8878\n"
     ]
    },
    {
     "name": "stderr",
     "output_type": "stream",
     "text": [
      "Validation: 100%|██████████| 79/79 [00:00<00:00, 334.78it/s]\n"
     ]
    },
    {
     "name": "stdout",
     "output_type": "stream",
     "text": [
      "Epoch 39/50, Validation Loss(MSE): 5.4566, Sentiment Accuracy: 0.8572\n"
     ]
    },
    {
     "name": "stderr",
     "output_type": "stream",
     "text": [
      "Epoch 40/50: 100%|██████████| 704/704 [00:06<00:00, 105.31it/s]\n"
     ]
    },
    {
     "name": "stdout",
     "output_type": "stream",
     "text": [
      "Epoch 40/50, Train Loss(MSE): 1.8424\n"
     ]
    },
    {
     "name": "stderr",
     "output_type": "stream",
     "text": [
      "Validation: 100%|██████████| 79/79 [00:00<00:00, 335.71it/s]\n"
     ]
    },
    {
     "name": "stdout",
     "output_type": "stream",
     "text": [
      "Epoch 40/50, Validation Loss(MSE): 5.5227, Sentiment Accuracy: 0.8576\n"
     ]
    },
    {
     "name": "stderr",
     "output_type": "stream",
     "text": [
      "Epoch 41/50: 100%|██████████| 704/704 [00:06<00:00, 103.42it/s]\n"
     ]
    },
    {
     "name": "stdout",
     "output_type": "stream",
     "text": [
      "Epoch 41/50, Train Loss(MSE): 1.8022\n"
     ]
    },
    {
     "name": "stderr",
     "output_type": "stream",
     "text": [
      "Validation: 100%|██████████| 79/79 [00:00<00:00, 327.00it/s]\n"
     ]
    },
    {
     "name": "stdout",
     "output_type": "stream",
     "text": [
      "Epoch 41/50, Validation Loss(MSE): 5.5422, Sentiment Accuracy: 0.8564\n"
     ]
    },
    {
     "name": "stderr",
     "output_type": "stream",
     "text": [
      "Epoch 42/50: 100%|██████████| 704/704 [00:06<00:00, 103.54it/s]\n"
     ]
    },
    {
     "name": "stdout",
     "output_type": "stream",
     "text": [
      "Epoch 42/50, Train Loss(MSE): 1.7514\n"
     ]
    },
    {
     "name": "stderr",
     "output_type": "stream",
     "text": [
      "Validation: 100%|██████████| 79/79 [00:00<00:00, 331.82it/s]\n"
     ]
    },
    {
     "name": "stdout",
     "output_type": "stream",
     "text": [
      "Epoch 42/50, Validation Loss(MSE): 5.5125, Sentiment Accuracy: 0.8592\n"
     ]
    },
    {
     "name": "stderr",
     "output_type": "stream",
     "text": [
      "Epoch 43/50: 100%|██████████| 704/704 [00:06<00:00, 104.14it/s]\n"
     ]
    },
    {
     "name": "stdout",
     "output_type": "stream",
     "text": [
      "Epoch 43/50, Train Loss(MSE): 1.7144\n"
     ]
    },
    {
     "name": "stderr",
     "output_type": "stream",
     "text": [
      "Validation: 100%|██████████| 79/79 [00:00<00:00, 329.39it/s]\n"
     ]
    },
    {
     "name": "stdout",
     "output_type": "stream",
     "text": [
      "Epoch 43/50, Validation Loss(MSE): 5.5405, Sentiment Accuracy: 0.8552\n"
     ]
    },
    {
     "name": "stderr",
     "output_type": "stream",
     "text": [
      "Epoch 44/50: 100%|██████████| 704/704 [00:06<00:00, 104.05it/s]\n"
     ]
    },
    {
     "name": "stdout",
     "output_type": "stream",
     "text": [
      "Epoch 44/50, Train Loss(MSE): 1.6727\n"
     ]
    },
    {
     "name": "stderr",
     "output_type": "stream",
     "text": [
      "Validation: 100%|██████████| 79/79 [00:00<00:00, 340.54it/s]\n"
     ]
    },
    {
     "name": "stdout",
     "output_type": "stream",
     "text": [
      "Epoch 44/50, Validation Loss(MSE): 5.5569, Sentiment Accuracy: 0.8560\n"
     ]
    },
    {
     "name": "stderr",
     "output_type": "stream",
     "text": [
      "Epoch 45/50: 100%|██████████| 704/704 [00:06<00:00, 108.28it/s]\n"
     ]
    },
    {
     "name": "stdout",
     "output_type": "stream",
     "text": [
      "Epoch 45/50, Train Loss(MSE): 1.6299\n"
     ]
    },
    {
     "name": "stderr",
     "output_type": "stream",
     "text": [
      "Validation: 100%|██████████| 79/79 [00:00<00:00, 322.71it/s]\n"
     ]
    },
    {
     "name": "stdout",
     "output_type": "stream",
     "text": [
      "Epoch 45/50, Validation Loss(MSE): 5.5745, Sentiment Accuracy: 0.8540\n"
     ]
    },
    {
     "name": "stderr",
     "output_type": "stream",
     "text": [
      "Epoch 46/50: 100%|██████████| 704/704 [00:06<00:00, 105.35it/s]\n"
     ]
    },
    {
     "name": "stdout",
     "output_type": "stream",
     "text": [
      "Epoch 46/50, Train Loss(MSE): 1.6022\n"
     ]
    },
    {
     "name": "stderr",
     "output_type": "stream",
     "text": [
      "Validation: 100%|██████████| 79/79 [00:00<00:00, 329.39it/s]\n"
     ]
    },
    {
     "name": "stdout",
     "output_type": "stream",
     "text": [
      "Epoch 46/50, Validation Loss(MSE): 5.6465, Sentiment Accuracy: 0.8528\n"
     ]
    },
    {
     "name": "stderr",
     "output_type": "stream",
     "text": [
      "Epoch 47/50: 100%|██████████| 704/704 [00:06<00:00, 105.43it/s]\n"
     ]
    },
    {
     "name": "stdout",
     "output_type": "stream",
     "text": [
      "Epoch 47/50, Train Loss(MSE): 1.5667\n"
     ]
    },
    {
     "name": "stderr",
     "output_type": "stream",
     "text": [
      "Validation: 100%|██████████| 79/79 [00:00<00:00, 314.00it/s]\n"
     ]
    },
    {
     "name": "stdout",
     "output_type": "stream",
     "text": [
      "Epoch 47/50, Validation Loss(MSE): 5.8194, Sentiment Accuracy: 0.8544\n"
     ]
    },
    {
     "name": "stderr",
     "output_type": "stream",
     "text": [
      "Epoch 48/50: 100%|██████████| 704/704 [00:06<00:00, 104.01it/s]\n"
     ]
    },
    {
     "name": "stdout",
     "output_type": "stream",
     "text": [
      "Epoch 48/50, Train Loss(MSE): 1.5399\n"
     ]
    },
    {
     "name": "stderr",
     "output_type": "stream",
     "text": [
      "Validation: 100%|██████████| 79/79 [00:00<00:00, 321.59it/s]\n"
     ]
    },
    {
     "name": "stdout",
     "output_type": "stream",
     "text": [
      "Epoch 48/50, Validation Loss(MSE): 5.8789, Sentiment Accuracy: 0.8584\n"
     ]
    },
    {
     "name": "stderr",
     "output_type": "stream",
     "text": [
      "Epoch 49/50: 100%|██████████| 704/704 [00:06<00:00, 107.15it/s]\n"
     ]
    },
    {
     "name": "stdout",
     "output_type": "stream",
     "text": [
      "Epoch 49/50, Train Loss(MSE): 1.5056\n"
     ]
    },
    {
     "name": "stderr",
     "output_type": "stream",
     "text": [
      "Validation: 100%|██████████| 79/79 [00:00<00:00, 334.07it/s]\n"
     ]
    },
    {
     "name": "stdout",
     "output_type": "stream",
     "text": [
      "Epoch 49/50, Validation Loss(MSE): 5.6202, Sentiment Accuracy: 0.8560\n"
     ]
    },
    {
     "name": "stderr",
     "output_type": "stream",
     "text": [
      "Epoch 50/50: 100%|██████████| 704/704 [00:06<00:00, 107.35it/s]\n"
     ]
    },
    {
     "name": "stdout",
     "output_type": "stream",
     "text": [
      "Epoch 50/50, Train Loss(MSE): 1.4805\n"
     ]
    },
    {
     "name": "stderr",
     "output_type": "stream",
     "text": [
      "Validation: 100%|██████████| 79/79 [00:00<00:00, 331.22it/s]"
     ]
    },
    {
     "name": "stdout",
     "output_type": "stream",
     "text": [
      "Epoch 50/50, Validation Loss(MSE): 5.6330, Sentiment Accuracy: 0.8548\n"
     ]
    },
    {
     "name": "stderr",
     "output_type": "stream",
     "text": [
      "\n"
     ]
    }
   ],
   "source": [
    "model = GRUAttention(in_dim=64, out_dim=64, num_heads=4, max_seq_len=2048, qkv_bias=False, dropout=0.5)\n",
    "\n",
    "train(model, train_dataset, val_dataset, lr=1e-4, epochs=50, batch_size=32)"
   ]
  },
  {
   "cell_type": "code",
   "execution_count": 30,
   "id": "fa672144-dc19-481d-b6b3-5db0e2f8b8de",
   "metadata": {},
   "outputs": [
    {
     "name": "stderr",
     "output_type": "stream",
     "text": [
      "Testing: 100%|██████████| 1563/1563 [00:02<00:00, 601.01it/s]"
     ]
    },
    {
     "name": "stdout",
     "output_type": "stream",
     "text": [
      "Test Loss(MSE): 5.9147, Test Sentiment Accuracy: 0.8358\n"
     ]
    },
    {
     "name": "stderr",
     "output_type": "stream",
     "text": [
      "\n"
     ]
    }
   ],
   "source": [
    "model.load_state_dict(torch.load(\"model/best_model.pth\",weights_only=True))\n",
    "test(model, test_dataset, batch_size=16)"
   ]
  }
 ],
 "metadata": {
  "kernelspec": {
   "display_name": "Python 3 (ipykernel)",
   "language": "python",
   "name": "python3"
  },
  "language_info": {
   "codemirror_mode": {
    "name": "ipython",
    "version": 3
   },
   "file_extension": ".py",
   "mimetype": "text/x-python",
   "name": "python",
   "nbconvert_exporter": "python",
   "pygments_lexer": "ipython3",
   "version": "3.12.3"
  }
 },
 "nbformat": 4,
 "nbformat_minor": 5
}
